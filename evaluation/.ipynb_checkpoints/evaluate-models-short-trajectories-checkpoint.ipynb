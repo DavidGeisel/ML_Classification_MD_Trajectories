{
 "cells": [
  {
   "cell_type": "markdown",
   "metadata": {},
   "source": [
    "# Import dependencies"
   ]
  },
  {
   "cell_type": "code",
   "execution_count": 1,
   "metadata": {},
   "outputs": [],
   "source": [
    "import numpy as np\n",
    "import pickle\n",
    "import pandas as pd\n",
    "import joblib"
   ]
  },
  {
   "cell_type": "markdown",
   "metadata": {},
   "source": [
    "# Trajectories with mixed temporal resolutions"
   ]
  },
  {
   "cell_type": "markdown",
   "metadata": {},
   "source": [
    "## Load classifier and data"
   ]
  },
  {
   "cell_type": "code",
   "execution_count": 87,
   "metadata": {},
   "outputs": [],
   "source": [
    "def load_classifier_and_data(model, input_vector):\n",
    "    \"\"\"\n",
    "    Loads trained classifier and training + test data.\n",
    "    \n",
    "    Arguments:\n",
    "    model -- which classifier to use (\"RF\", \"GB\", \"LR\", \"SVM\")\n",
    "    input_vector -- use high-dimensional (\"high-dim\") or low dimensional (\"lwo-dim\") input vectors\n",
    "    \n",
    "    \n",
    "    Returns:\n",
    "    clf -- trained classifer\n",
    "    X_train -- data on which classifier was trained\n",
    "    X_test -- unseen test data for evaluation\n",
    "    y_train_binary - labels of train data\n",
    "    y_test_binary - labels of test data\n",
    "    \"\"\"\n",
    "    \n",
    "    if model == \"RF\":\n",
    "        if input_vector == \"high-dim\":\n",
    "            path = \"../ML-models/random-forest/short-trajectories/varied-temporal-resolutions/high-dimensional-input/\"\n",
    "            clf = joblib.load(open(path + \"RF_mixed_high_dim.joblib\", 'rb'))\n",
    "            X_train = np.load(path + \"X_train_mixed_high_dim.npy\")\n",
    "            X_test = np.load(path + \"X_test_mixed_high_dim.npy\")\n",
    "            y_train_binary = np.load(path + \"y_train_binary_mixed_high_dim.npy\")\n",
    "            y_test_binary = np.load(path + \"y_test_binary_mixed_high_dim.npy\")\n",
    "        elif input_vector == \"low-dim\":\n",
    "            path = \"../ML-models/random-forest/short-trajectories/varied-temporal-resolutions/low-dimensional-input/\"\n",
    "            clf = joblib.load(open(path + \"RF_mixed_low_dim.joblib\", 'rb'))\n",
    "            X_train = np.load(path + \"X_train_mixed_low_dim.npy\")\n",
    "            X_test = np.load(path + \"X_test_mixed_low_dim.npy\")\n",
    "            y_train_binary = np.load(path + \"y_train_binary_mixed_low_dim.npy\")\n",
    "            y_test_binary = np.load(path + \"y_test_binary_mixed_low_dim.npy\")\n",
    "        else:\n",
    "            print(\"Please select valid input vector type\")\n",
    "            return 0\n",
    "    elif model == \"GB\":\n",
    "        if input_vector == \"high-dim\":\n",
    "            path = \"../ML-models/gradient-boosting/short-trajectories/varied-temporal-resolutions/high-dimensional-input/\"\n",
    "            clf = joblib.load(open(path + \"GB_mixed_high_dim.joblib\", 'rb'))\n",
    "            X_train = np.load(path + \"X_train_mixed_high_dim.npy\")\n",
    "            X_test = np.load(path + \"X_test_mixed_high_dim.npy\")\n",
    "            y_train_binary = np.load(path + \"y_train_binary_mixed_high_dim.npy\")\n",
    "            y_test_binary = np.load(path + \"y_test_binary_mixed_high_dim.npy\")\n",
    "        elif input_vector == \"low-dim\":\n",
    "            path = \"../ML-models/gradient-boosting/short-trajectories/varied-temporal-resolutions/low-dimensional-input/\"\n",
    "            clf = joblib.load(open(path + \"GB_mixed_low_dim.joblib\", 'rb'))\n",
    "            X_train = np.load(path + \"X_train_mixed_low_dim.npy\")\n",
    "            X_test = np.load(path + \"X_test_mixed_low_dim.npy\")\n",
    "            y_train_binary = np.load(path + \"y_train_binary_mixed_low_dim.npy\")\n",
    "            y_test_binary = np.load(path + \"y_test_binary_mixed_low_dim.npy\")\n",
    "        else:\n",
    "            print(\"Please select valid input vector type\")\n",
    "            return 0\n",
    "    elif model == \"LR\":\n",
    "        if input_vector == \"high-dim\":\n",
    "            path = \"../ML-models/logistic-regression/short-trajectories/varied_temporal_resolutions/high-dimensional-input/\"\n",
    "            clf = joblib.load(open(path + \"LR_mixed_high_dim.joblib\", 'rb'))\n",
    "            X_train = np.load(path + \"X_train_mixed_high_dim.npy\")\n",
    "            X_test = np.load(path + \"X_test_mixed_high_dim.npy\")\n",
    "            y_train_binary = np.load(path + \"y_train_binary_mixed_high_dim.npy\")\n",
    "            y_test_binary = np.load(path + \"y_test_binary_mixed_high_dim.npy\")\n",
    "        elif input_vector == \"low-dim\":\n",
    "            path = \"../ML-models/logistic-regression/short-trajectories/varied_temporal_resolutions/low-dimensional-input/\"\n",
    "            clf = joblib.load(open(path + \"LR_mixed_low_dim.joblib\", 'rb'))\n",
    "            X_train = np.load(path + \"X_train_mixed_low_dim.npy\")\n",
    "            X_test = np.load(path + \"X_test_mixed_low_dim.npy\")\n",
    "            y_train_binary = np.load(path + \"y_train_binary_mixed_low_dim.npy\")\n",
    "            y_test_binary = np.load(path + \"y_test_binary_mixed_low_dim.npy\")\n",
    "        else:\n",
    "            print(\"Please select valid input vector type\")\n",
    "            return 0\n",
    "    elif model == \"SVM\":\n",
    "        if input_vector == \"high-dim\":\n",
    "            path = \"../ML-models/svm/short-trajectories/varied-temporal-resolutions/high-dimensional-input/\"\n",
    "            clf = joblib.load(open(path + \"SVM_mixed_high_dim.joblib\", 'rb'))\n",
    "            X_train = np.load(path + \"X_train_mixed_high_dim.npy\")\n",
    "            X_test = np.load(path + \"X_test_mixed_high_dim.npy\")\n",
    "            y_train_binary = np.load(path + \"y_train_binary_mixed_high_dim.npy\")\n",
    "            y_test_binary = np.load(path + \"y_test_binary_mixed_high_dim.npy\")\n",
    "        elif input_vector == \"low-dim\":\n",
    "            path = \"../ML-models/svm/short-trajectories/varied-temporal-resolutions/low-dimensional_input/\"\n",
    "            clf = joblib.load(open(path + \"SVM_mixed_low_dim.joblib\", 'rb'))\n",
    "            X_train = np.load(path + \"X_train_mixed_low_dim.npy\")\n",
    "            X_test = np.load(path + \"X_test_mixed_low_dim.npy\")\n",
    "            y_train_binary = np.load(path + \"y_train_binary_mixed_low_dim.npy\")\n",
    "            y_test_binary = np.load(path + \"y_test_binary_mixed_low_dim.npy\")\n",
    "        else:\n",
    "            print(\"Please select valid input vector type\")\n",
    "            return 0\n",
    "    else:\n",
    "        print(\"Please select valid model\")\n",
    "        return 0\n",
    "        \n",
    "    return clf, X_train, X_test, y_train_binary, y_test_binary"
   ]
  },
  {
   "cell_type": "code",
   "execution_count": 88,
   "metadata": {},
   "outputs": [],
   "source": [
    "# Notice that trajectories with reduced length are always classified with the high-dimensional input vectors!\n",
    "clf, X_train, X_test, y_train_binary, y_test_binary = load_classifier_and_data(model=\"SVM\", input_vector=\"low-dim\")"
   ]
  },
  {
   "cell_type": "markdown",
   "metadata": {},
   "source": [
    "## Evaluate"
   ]
  },
  {
   "cell_type": "markdown",
   "metadata": {},
   "source": [
    "### Overall prediction accuracies"
   ]
  },
  {
   "cell_type": "code",
   "execution_count": 89,
   "metadata": {},
   "outputs": [
    {
     "name": "stdout",
     "output_type": "stream",
     "text": [
      "Accuracy on train data:  0.7954227722259618\n"
     ]
    }
   ],
   "source": [
    "print(\"Accuracy on train data: \", clf.score(X_train, y_train_binary))"
   ]
  },
  {
   "cell_type": "code",
   "execution_count": 90,
   "metadata": {},
   "outputs": [
    {
     "name": "stdout",
     "output_type": "stream",
     "text": [
      "Accuracy on test data:  0.7828034990398975\n"
     ]
    }
   ],
   "source": [
    "print(\"Accuracy on test data: \", clf.score(X_test, y_test_binary))"
   ]
  },
  {
   "cell_type": "code",
   "execution_count": null,
   "metadata": {},
   "outputs": [],
   "source": []
  },
  {
   "cell_type": "markdown",
   "metadata": {},
   "source": [
    "# Trajectories with reduced lengths"
   ]
  },
  {
   "cell_type": "code",
   "execution_count": null,
   "metadata": {},
   "outputs": [],
   "source": [
    "else:\n",
    "            if input_vector == \"low-dim\":\n",
    "                print(\"Trajectories with reduced length were always classified with high-dimensional input vectors.\")\n",
    "                return 0\n",
    "            else:\n",
    "                path = \"/home/david/Studium/Doktorarbeit/Paper/Theoretical_MD_simulations/Github/ML_Classification_MD_Trajectories/ML-models/random-forest/short-trajectories/reduced-length/\"\n",
    "                clf = pickle.load(open(path + \"RF_length_\" + data_type + \".sav\", 'rb'))\n",
    "                    #X_train = np.load(path + \"X_train_high_dim.npy\")\n",
    "                    #X_test = np.load(path + \"X_test_high_dim.npy\")\n",
    "                    #y_train_binary = np.load(path + \"y_train_binary_high_dim.npy\")\n",
    "                    #y_test_binary = np.load(path + \"y_test_binary_high_dim.npy\")"
   ]
  }
 ],
 "metadata": {
  "hide_input": false,
  "kernelspec": {
   "display_name": "Python 3",
   "language": "python",
   "name": "python3"
  },
  "language_info": {
   "codemirror_mode": {
    "name": "ipython",
    "version": 3
   },
   "file_extension": ".py",
   "mimetype": "text/x-python",
   "name": "python",
   "nbconvert_exporter": "python",
   "pygments_lexer": "ipython3",
   "version": "3.8.5"
  },
  "toc": {
   "base_numbering": 1,
   "nav_menu": {},
   "number_sections": true,
   "sideBar": true,
   "skip_h1_title": false,
   "title_cell": "Table of Contents",
   "title_sidebar": "Contents",
   "toc_cell": false,
   "toc_position": {},
   "toc_section_display": true,
   "toc_window_display": true
  }
 },
 "nbformat": 4,
 "nbformat_minor": 4
}
