{
 "cells": [
  {
   "cell_type": "markdown",
   "metadata": {},
   "source": [
    "# Import dependencies"
   ]
  },
  {
   "cell_type": "code",
   "execution_count": 1,
   "metadata": {},
   "outputs": [],
   "source": [
    "import numpy as np\n",
    "import pickle\n",
    "import pandas as pd\n",
    "import joblib"
   ]
  },
  {
   "cell_type": "markdown",
   "metadata": {},
   "source": [
    "# Trajectories with mixed temporal resolutions"
   ]
  },
  {
   "cell_type": "markdown",
   "metadata": {},
   "source": [
    "## Load classifier and data"
   ]
  },
  {
   "cell_type": "code",
   "execution_count": 87,
   "metadata": {},
   "outputs": [],
   "source": [
    "def load_classifier_and_data(model, input_vector):\n",
    "    \"\"\"\n",
    "    Loads trained classifier and training + test data.\n",
    "    \n",
    "    Arguments:\n",
    "    model -- which classifier to use (\"RF\", \"GB\", \"LR\", \"SVM\")\n",
    "    input_vector -- use high-dimensional (\"high-dim\") or low dimensional (\"lwo-dim\") input vectors\n",
    "    \n",
    "    \n",
    "    Returns:\n",
    "    clf -- trained classifer\n",
    "    X_train -- data on which classifier was trained\n",
    "    X_test -- unseen test data for evaluation\n",
    "    y_train_binary - labels of train data\n",
    "    y_test_binary - labels of test data\n",
    "    \"\"\"\n",
    "    \n",
    "    if model == \"RF\":\n",
    "        if input_vector == \"high-dim\":\n",
    "            path = \"../ML-models/random-forest/short-trajectories/varied-temporal-resolutions/high-dimensional-input/\"\n",
    "            clf = joblib.load(open(path + \"RF_mixed_high_dim.joblib\", 'rb'))\n",
    "            X_train = np.load(path + \"X_train_mixed_high_dim.npy\")\n",
    "            X_test = np.load(path + \"X_test_mixed_high_dim.npy\")\n",
    "            y_train_binary = np.load(path + \"y_train_binary_mixed_high_dim.npy\")\n",
    "            y_test_binary = np.load(path + \"y_test_binary_mixed_high_dim.npy\")\n",
    "        elif input_vector == \"low-dim\":\n",
    "            path = \"../ML-models/random-forest/short-trajectories/varied-temporal-resolutions/low-dimensional-input/\"\n",
    "            clf = joblib.load(open(path + \"RF_mixed_low_dim.joblib\", 'rb'))\n",
    "            X_train = np.load(path + \"X_train_mixed_low_dim.npy\")\n",
    "            X_test = np.load(path + \"X_test_mixed_low_dim.npy\")\n",
    "            y_train_binary = np.load(path + \"y_train_binary_mixed_low_dim.npy\")\n",
    "            y_test_binary = np.load(path + \"y_test_binary_mixed_low_dim.npy\")\n",
    "        else:\n",
    "            print(\"Please select valid input vector type\")\n",
    "            return 0\n",
    "    elif model == \"GB\":\n",
    "        if input_vector == \"high-dim\":\n",
    "            path = \"../ML-models/gradient-boosting/short-trajectories/varied-temporal-resolutions/high-dimensional-input/\"\n",
    "            clf = joblib.load(open(path + \"GB_mixed_high_dim.joblib\", 'rb'))\n",
    "            X_train = np.load(path + \"X_train_mixed_high_dim.npy\")\n",
    "            X_test = np.load(path + \"X_test_mixed_high_dim.npy\")\n",
    "            y_train_binary = np.load(path + \"y_train_binary_mixed_high_dim.npy\")\n",
    "            y_test_binary = np.load(path + \"y_test_binary_mixed_high_dim.npy\")\n",
    "        elif input_vector == \"low-dim\":\n",
    "            path = \"../ML-models/gradient-boosting/short-trajectories/varied-temporal-resolutions/low-dimensional-input/\"\n",
    "            clf = joblib.load(open(path + \"GB_mixed_low_dim.joblib\", 'rb'))\n",
    "            X_train = np.load(path + \"X_train_mixed_low_dim.npy\")\n",
    "            X_test = np.load(path + \"X_test_mixed_low_dim.npy\")\n",
    "            y_train_binary = np.load(path + \"y_train_binary_mixed_low_dim.npy\")\n",
    "            y_test_binary = np.load(path + \"y_test_binary_mixed_low_dim.npy\")\n",
    "        else:\n",
    "            print(\"Please select valid input vector type\")\n",
    "            return 0\n",
    "    elif model == \"LR\":\n",
    "        if input_vector == \"high-dim\":\n",
    "            path = \"../ML-models/logistic-regression/short-trajectories/varied_temporal_resolutions/high-dimensional-input/\"\n",
    "            clf = joblib.load(open(path + \"LR_mixed_high_dim.joblib\", 'rb'))\n",
    "            X_train = np.load(path + \"X_train_mixed_high_dim.npy\")\n",
    "            X_test = np.load(path + \"X_test_mixed_high_dim.npy\")\n",
    "            y_train_binary = np.load(path + \"y_train_binary_mixed_high_dim.npy\")\n",
    "            y_test_binary = np.load(path + \"y_test_binary_mixed_high_dim.npy\")\n",
    "        elif input_vector == \"low-dim\":\n",
    "            path = \"../ML-models/logistic-regression/short-trajectories/varied_temporal_resolutions/low-dimensional-input/\"\n",
    "            clf = joblib.load(open(path + \"LR_mixed_low_dim.joblib\", 'rb'))\n",
    "            X_train = np.load(path + \"X_train_mixed_low_dim.npy\")\n",
    "            X_test = np.load(path + \"X_test_mixed_low_dim.npy\")\n",
    "            y_train_binary = np.load(path + \"y_train_binary_mixed_low_dim.npy\")\n",
    "            y_test_binary = np.load(path + \"y_test_binary_mixed_low_dim.npy\")\n",
    "        else:\n",
    "            print(\"Please select valid input vector type\")\n",
    "            return 0\n",
    "    elif model == \"SVM\":\n",
    "        if input_vector == \"high-dim\":\n",
    "            path = \"../ML-models/svm/short-trajectories/varied-temporal-resolutions/high-dimensional-input/\"\n",
    "            clf = joblib.load(open(path + \"SVM_mixed_high_dim.joblib\", 'rb'))\n",
    "            X_train = np.load(path + \"X_train_mixed_high_dim.npy\")\n",
    "            X_test = np.load(path + \"X_test_mixed_high_dim.npy\")\n",
    "            y_train_binary = np.load(path + \"y_train_binary_mixed_high_dim.npy\")\n",
    "            y_test_binary = np.load(path + \"y_test_binary_mixed_high_dim.npy\")\n",
    "        elif input_vector == \"low-dim\":\n",
    "            path = \"../ML-models/svm/short-trajectories/varied-temporal-resolutions/low-dimensional_input/\"\n",
    "            clf = joblib.load(open(path + \"SVM_mixed_low_dim.joblib\", 'rb'))\n",
    "            X_train = np.load(path + \"X_train_mixed_low_dim.npy\")\n",
    "            X_test = np.load(path + \"X_test_mixed_low_dim.npy\")\n",
    "            y_train_binary = np.load(path + \"y_train_binary_mixed_low_dim.npy\")\n",
    "            y_test_binary = np.load(path + \"y_test_binary_mixed_low_dim.npy\")\n",
    "        else:\n",
    "            print(\"Please select valid input vector type\")\n",
    "            return 0\n",
    "    else:\n",
    "        print(\"Please select valid model\")\n",
    "        return 0\n",
    "        \n",
    "    return clf, X_train, X_test, y_train_binary, y_test_binary"
   ]
  },
  {
   "cell_type": "code",
   "execution_count": 88,
   "metadata": {},
   "outputs": [],
   "source": [
    "# Notice that trajectories with reduced length are always classified with the high-dimensional input vectors!\n",
    "clf, X_train, X_test, y_train_binary, y_test_binary = load_classifier_and_data(model=\"SVM\", input_vector=\"low-dim\")"
   ]
  },
  {
   "cell_type": "markdown",
   "metadata": {},
   "source": [
    "## Evaluate"
   ]
  },
  {
   "cell_type": "markdown",
   "metadata": {},
   "source": [
    "### Overall prediction accuracies"
   ]
  },
  {
   "cell_type": "code",
   "execution_count": 89,
   "metadata": {},
   "outputs": [
    {
     "name": "stdout",
     "output_type": "stream",
     "text": [
      "Accuracy on train data:  0.7954227722259618\n"
     ]
    }
   ],
   "source": [
    "print(\"Accuracy on train data: \", clf.score(X_train, y_train_binary))"
   ]
  },
  {
   "cell_type": "code",
   "execution_count": 90,
   "metadata": {},
   "outputs": [
    {
     "name": "stdout",
     "output_type": "stream",
     "text": [
      "Accuracy on test data:  0.7828034990398975\n"
     ]
    }
   ],
   "source": [
    "print(\"Accuracy on test data: \", clf.score(X_test, y_test_binary))"
   ]
  },
  {
   "cell_type": "code",
   "execution_count": null,
   "metadata": {},
   "outputs": [],
   "source": []
  },
  {
   "cell_type": "markdown",
   "metadata": {},
   "source": [
    "# Trajectories with reduced lengths"
   ]
  },
  {
   "cell_type": "markdown",
   "metadata": {},
   "source": [
    "## Define evaluation routines"
   ]
  },
  {
   "cell_type": "code",
   "execution_count": 52,
   "metadata": {},
   "outputs": [],
   "source": [
    "def load_classifier_and_reduced_traj_data(model, trajectory_length):\n",
    "    \"\"\"\n",
    "    Loads trained classifier and training + test data.\n",
    "    (All classifications were performed using the high-dimensional preprocessing protocol.)\n",
    "    \n",
    "    Arguments:\n",
    "    model -- which classifier to use (\"RF\", \"GB\", \"LR\", \"SVM\")\n",
    "    trajectory_length -- length of the trajectories to classify\n",
    "    \n",
    "    \n",
    "    Returns:\n",
    "    clf -- trained classifer\n",
    "    X_train -- data on which classifier was trained\n",
    "    X_test -- unseen test data for evaluation\n",
    "    y_train_binary - labels of train data\n",
    "    y_test_binary - labels of test data\n",
    "    \"\"\"\n",
    "    \n",
    "    if model == \"RF\":\n",
    "        base_path = \"../../ML-models/random-forest/short-trajectories/reduced_length/\" + str(trajectory_length) + \"s/\"\n",
    "        clf = pickle.load(open(base_path + \"RF_cutted_\" + str(trajectory_length) + \"s_3kRuns.sav\", 'rb'))\n",
    "        X_train = np.load(base_path + \"X_train_cutted_\" + str(trajectory_length) + \"s.npy\")\n",
    "        X_test = np.load(base_path + \"X_test_cutted_\" + str(trajectory_length) + \"s.npy\")\n",
    "        y_train_binary = np.load(base_path + \"y_train_binary_cutted_\" + str(trajectory_length) + \"s.npy\")\n",
    "        y_test_binary = np.load(base_path + \"y_test_binary_cutted_\" + str(trajectory_length) + \"s.npy\")\n",
    "        \n",
    "    elif model == \"GB\":\n",
    "        base_path = \"../../ML-models/gradient-boosting/short-trajectories/reduced_length/\" + str(trajectory_length) + \"s/\"\n",
    "        clf = pickle.load(open(base_path + \"GB_cutted_\" + str(trajectory_length) + \"s_3kRuns.sav\", 'rb'))\n",
    "        X_train = np.load(base_path + \"X_train_cutted_\" + str(trajectory_length) + \"s.npy\")\n",
    "        X_test = np.load(base_path + \"X_test_cutted_\" + str(trajectory_length) + \"s.npy\")\n",
    "        y_train_binary = np.load(base_path + \"y_train_binary_cutted_\" + str(trajectory_length) + \"s.npy\")\n",
    "        y_test_binary = np.load(base_path + \"y_test_binary_cutted_\" + str(trajectory_length) + \"s.npy\")\n",
    "    \n",
    "    elif model == \"LR\":\n",
    "        base_path = \"../../ML-models/logistic-regression/short-trajectories/reduced_length/\" + str(trajectory_length) + \"s/\"\n",
    "        clf = pickle.load(open(base_path + \"LR_cutted_\" + str(trajectory_length) + \"s_3kRuns.sav\", 'rb'))\n",
    "        X_train = np.load(base_path + \"X_train_cutted_\" + str(trajectory_length) + \"s.npy\")\n",
    "        X_test = np.load(base_path + \"X_test_cutted_\" + str(trajectory_length) + \"s.npy\")\n",
    "        y_train_binary = np.load(base_path + \"y_train_binary_cutted_\" + str(trajectory_length) + \"s.npy\")\n",
    "        y_test_binary = np.load(base_path + \"y_test_binary_cutted_\" + str(trajectory_length) + \"s.npy\")\n",
    "    elif model == \"SVM\":\n",
    "        base_path = \"../../ML-models/svm/short-trajectories/reduced_length/\" + str(trajectory_length) + \"s/\"\n",
    "        clf = pickle.load(open(base_path + \"SVM_cutted_\" + str(trajectory_length) + \"s_3kRuns.sav\", 'rb'))\n",
    "        X_train = np.load(base_path + \"X_train_cutted_\" + str(trajectory_length) + \"s.npy\")\n",
    "        X_test = np.load(base_path + \"X_test_cutted_\" + str(trajectory_length) + \"s.npy\")\n",
    "        y_train_binary = np.load(base_path + \"y_train_binary_cutted_\" + str(trajectory_length) + \"s.npy\")\n",
    "        y_test_binary = np.load(base_path + \"y_test_binary_cutted_\" + str(trajectory_length) + \"s.npy\")\n",
    "    else:\n",
    "        print(\"Please select valid model\")\n",
    "        return 0\n",
    "        \n",
    "    return clf, X_train, X_test, y_train_binary, y_test_binary"
   ]
  },
  {
   "cell_type": "code",
   "execution_count": 40,
   "metadata": {},
   "outputs": [],
   "source": [
    "def evaluate_clf_on_lengths(model, lengths):\n",
    "    train_accuracies = []\n",
    "    test_accuracies = []\n",
    "    for length in lengths:\n",
    "        clf, X_train, X_test, y_train_binary, y_test_binary = load_classifier_and_reduced_traj_data(model=model, trajectory_length=length)\n",
    "        \n",
    "        print(\"np.shape(X_train): \", np.shape(X_train))\n",
    "        print(\"np.shape(y_train_binary): \", np.shape(y_train_binary))\n",
    "        print(\"Accuracy on train data: \", clf.score(X_train, y_train_binary))\n",
    "        train_accuracies.append(clf.score(X_train, y_train_binary))\n",
    "        \n",
    "        print(\"np.shape(X_test): \", np.shape(X_test))\n",
    "        print(\"np.shape(y_test_binary): \", np.shape(y_test_binary))\n",
    "        print(\"Accuracy on test data: \", clf.score(X_test, y_test_binary))\n",
    "        test_accuracies.append(clf.score(X_test, y_test_binary))\n",
    "    \n",
    "    return train_accuracies, test_accuracies"
   ]
  },
  {
   "cell_type": "markdown",
   "metadata": {},
   "source": [
    "## Evaluate models"
   ]
  },
  {
   "cell_type": "code",
   "execution_count": 42,
   "metadata": {},
   "outputs": [],
   "source": [
    "# List of available lengths of trajectories\n",
    "lengths = [5, 6, 7, 8, 9, 10, 20, 30, 40, 50, 60, 70, 80, 90, 100, 500, 1000, 1500, 2000]"
   ]
  },
  {
   "cell_type": "markdown",
   "metadata": {},
   "source": [
    "### Random forest"
   ]
  },
  {
   "cell_type": "code",
   "execution_count": 41,
   "metadata": {},
   "outputs": [
    {
     "name": "stdout",
     "output_type": "stream",
     "text": [
      "np.shape(X_train):  (19082, 5)\n",
      "np.shape(y_train_binary):  (19082,)\n"
     ]
    },
    {
     "name": "stderr",
     "output_type": "stream",
     "text": [
      "[Parallel(n_jobs=4)]: Using backend ThreadingBackend with 4 concurrent workers.\n",
      "[Parallel(n_jobs=4)]: Done  42 tasks      | elapsed:    0.1s\n",
      "[Parallel(n_jobs=4)]: Done 192 tasks      | elapsed:    0.3s\n",
      "[Parallel(n_jobs=4)]: Done 442 tasks      | elapsed:    0.6s\n",
      "[Parallel(n_jobs=4)]: Done 792 tasks      | elapsed:    1.1s\n",
      "[Parallel(n_jobs=4)]: Done 800 out of 800 | elapsed:    1.1s finished\n",
      "[Parallel(n_jobs=4)]: Using backend ThreadingBackend with 4 concurrent workers.\n",
      "[Parallel(n_jobs=4)]: Done  42 tasks      | elapsed:    0.1s\n"
     ]
    },
    {
     "name": "stdout",
     "output_type": "stream",
     "text": [
      "Accuracy on train data:  0.7551095273032177\n"
     ]
    },
    {
     "name": "stderr",
     "output_type": "stream",
     "text": [
      "[Parallel(n_jobs=4)]: Done 192 tasks      | elapsed:    0.3s\n",
      "[Parallel(n_jobs=4)]: Done 442 tasks      | elapsed:    0.6s\n",
      "[Parallel(n_jobs=4)]: Done 792 tasks      | elapsed:    1.2s\n",
      "[Parallel(n_jobs=4)]: Done 800 out of 800 | elapsed:    1.2s finished\n",
      "[Parallel(n_jobs=4)]: Using backend ThreadingBackend with 4 concurrent workers.\n",
      "[Parallel(n_jobs=4)]: Done  42 tasks      | elapsed:    0.0s\n",
      "[Parallel(n_jobs=4)]: Done 192 tasks      | elapsed:    0.1s\n"
     ]
    },
    {
     "name": "stdout",
     "output_type": "stream",
     "text": [
      "np.shape(X_test):  (4918, 5)\n",
      "np.shape(y_test_binary):  (4918,)\n"
     ]
    },
    {
     "name": "stderr",
     "output_type": "stream",
     "text": [
      "[Parallel(n_jobs=4)]: Done 442 tasks      | elapsed:    0.4s\n",
      "[Parallel(n_jobs=4)]: Done 792 tasks      | elapsed:    0.6s\n",
      "[Parallel(n_jobs=4)]: Done 800 out of 800 | elapsed:    0.6s finished\n",
      "[Parallel(n_jobs=4)]: Using backend ThreadingBackend with 4 concurrent workers.\n",
      "[Parallel(n_jobs=4)]: Done  42 tasks      | elapsed:    0.0s\n"
     ]
    },
    {
     "name": "stdout",
     "output_type": "stream",
     "text": [
      "Accuracy on test data:  0.5931272875152501\n"
     ]
    },
    {
     "name": "stderr",
     "output_type": "stream",
     "text": [
      "[Parallel(n_jobs=4)]: Done 192 tasks      | elapsed:    0.1s\n",
      "[Parallel(n_jobs=4)]: Done 442 tasks      | elapsed:    0.2s\n",
      "[Parallel(n_jobs=4)]: Done 792 tasks      | elapsed:    0.4s\n",
      "[Parallel(n_jobs=4)]: Done 800 out of 800 | elapsed:    0.4s finished\n"
     ]
    },
    {
     "name": "stdout",
     "output_type": "stream",
     "text": [
      "np.shape(X_train):  (19147, 6)\n",
      "np.shape(y_train_binary):  (19147,)\n"
     ]
    },
    {
     "name": "stderr",
     "output_type": "stream",
     "text": [
      "[Parallel(n_jobs=4)]: Using backend ThreadingBackend with 4 concurrent workers.\n",
      "[Parallel(n_jobs=4)]: Done  42 tasks      | elapsed:    0.1s\n",
      "[Parallel(n_jobs=4)]: Done 192 tasks      | elapsed:    0.4s\n",
      "[Parallel(n_jobs=4)]: Done 442 tasks      | elapsed:    0.7s\n",
      "[Parallel(n_jobs=4)]: Done 792 tasks      | elapsed:    1.2s\n",
      "[Parallel(n_jobs=4)]: Done 800 out of 800 | elapsed:    1.2s finished\n",
      "[Parallel(n_jobs=4)]: Using backend ThreadingBackend with 4 concurrent workers.\n",
      "[Parallel(n_jobs=4)]: Done  42 tasks      | elapsed:    0.1s\n"
     ]
    },
    {
     "name": "stdout",
     "output_type": "stream",
     "text": [
      "Accuracy on train data:  0.7961038282759701\n"
     ]
    },
    {
     "name": "stderr",
     "output_type": "stream",
     "text": [
      "[Parallel(n_jobs=4)]: Done 192 tasks      | elapsed:    0.3s\n",
      "[Parallel(n_jobs=4)]: Done 442 tasks      | elapsed:    0.6s\n",
      "[Parallel(n_jobs=4)]: Done 792 tasks      | elapsed:    1.1s\n",
      "[Parallel(n_jobs=4)]: Done 800 out of 800 | elapsed:    1.1s finished\n",
      "[Parallel(n_jobs=4)]: Using backend ThreadingBackend with 4 concurrent workers.\n",
      "[Parallel(n_jobs=4)]: Done  42 tasks      | elapsed:    0.0s\n",
      "[Parallel(n_jobs=4)]: Done 192 tasks      | elapsed:    0.1s\n",
      "[Parallel(n_jobs=4)]: Done 442 tasks      | elapsed:    0.2s\n"
     ]
    },
    {
     "name": "stdout",
     "output_type": "stream",
     "text": [
      "np.shape(X_test):  (4853, 6)\n",
      "np.shape(y_test_binary):  (4853,)\n"
     ]
    },
    {
     "name": "stderr",
     "output_type": "stream",
     "text": [
      "[Parallel(n_jobs=4)]: Done 792 tasks      | elapsed:    0.4s\n",
      "[Parallel(n_jobs=4)]: Done 800 out of 800 | elapsed:    0.4s finished\n",
      "[Parallel(n_jobs=4)]: Using backend ThreadingBackend with 4 concurrent workers.\n",
      "[Parallel(n_jobs=4)]: Done  42 tasks      | elapsed:    0.0s\n",
      "[Parallel(n_jobs=4)]: Done 192 tasks      | elapsed:    0.1s\n"
     ]
    },
    {
     "name": "stdout",
     "output_type": "stream",
     "text": [
      "Accuracy on test data:  0.6536163198021843\n"
     ]
    },
    {
     "name": "stderr",
     "output_type": "stream",
     "text": [
      "[Parallel(n_jobs=4)]: Done 442 tasks      | elapsed:    0.2s\n",
      "[Parallel(n_jobs=4)]: Done 792 tasks      | elapsed:    0.4s\n",
      "[Parallel(n_jobs=4)]: Done 800 out of 800 | elapsed:    0.4s finished\n"
     ]
    },
    {
     "name": "stdout",
     "output_type": "stream",
     "text": [
      "np.shape(X_train):  (19356, 7)\n",
      "np.shape(y_train_binary):  (19356,)\n"
     ]
    },
    {
     "name": "stderr",
     "output_type": "stream",
     "text": [
      "[Parallel(n_jobs=4)]: Using backend ThreadingBackend with 4 concurrent workers.\n",
      "[Parallel(n_jobs=4)]: Done  42 tasks      | elapsed:    0.1s\n",
      "[Parallel(n_jobs=4)]: Done 192 tasks      | elapsed:    0.4s\n",
      "[Parallel(n_jobs=4)]: Done 442 tasks      | elapsed:    0.7s\n",
      "[Parallel(n_jobs=4)]: Done 792 tasks      | elapsed:    1.2s\n",
      "[Parallel(n_jobs=4)]: Done 800 out of 800 | elapsed:    1.2s finished\n",
      "[Parallel(n_jobs=4)]: Using backend ThreadingBackend with 4 concurrent workers.\n",
      "[Parallel(n_jobs=4)]: Done  42 tasks      | elapsed:    0.1s\n"
     ]
    },
    {
     "name": "stdout",
     "output_type": "stream",
     "text": [
      "Accuracy on train data:  0.8206757594544327\n"
     ]
    },
    {
     "name": "stderr",
     "output_type": "stream",
     "text": [
      "[Parallel(n_jobs=4)]: Done 192 tasks      | elapsed:    0.3s\n",
      "[Parallel(n_jobs=4)]: Done 442 tasks      | elapsed:    0.7s\n",
      "[Parallel(n_jobs=4)]: Done 792 tasks      | elapsed:    1.2s\n",
      "[Parallel(n_jobs=4)]: Done 800 out of 800 | elapsed:    1.2s finished\n",
      "[Parallel(n_jobs=4)]: Using backend ThreadingBackend with 4 concurrent workers.\n",
      "[Parallel(n_jobs=4)]: Done  42 tasks      | elapsed:    0.0s\n",
      "[Parallel(n_jobs=4)]: Done 192 tasks      | elapsed:    0.1s\n"
     ]
    },
    {
     "name": "stdout",
     "output_type": "stream",
     "text": [
      "np.shape(X_test):  (4644, 7)\n",
      "np.shape(y_test_binary):  (4644,)\n"
     ]
    },
    {
     "name": "stderr",
     "output_type": "stream",
     "text": [
      "[Parallel(n_jobs=4)]: Done 442 tasks      | elapsed:    0.2s\n",
      "[Parallel(n_jobs=4)]: Done 792 tasks      | elapsed:    0.4s\n",
      "[Parallel(n_jobs=4)]: Done 800 out of 800 | elapsed:    0.4s finished\n",
      "[Parallel(n_jobs=4)]: Using backend ThreadingBackend with 4 concurrent workers.\n",
      "[Parallel(n_jobs=4)]: Done  42 tasks      | elapsed:    0.0s\n"
     ]
    },
    {
     "name": "stdout",
     "output_type": "stream",
     "text": [
      "Accuracy on test data:  0.6675279931093885\n"
     ]
    },
    {
     "name": "stderr",
     "output_type": "stream",
     "text": [
      "[Parallel(n_jobs=4)]: Done 192 tasks      | elapsed:    0.1s\n",
      "[Parallel(n_jobs=4)]: Done 442 tasks      | elapsed:    0.2s\n",
      "[Parallel(n_jobs=4)]: Done 792 tasks      | elapsed:    0.4s\n",
      "[Parallel(n_jobs=4)]: Done 800 out of 800 | elapsed:    0.4s finished\n"
     ]
    },
    {
     "name": "stdout",
     "output_type": "stream",
     "text": [
      "np.shape(X_train):  (19102, 8)\n",
      "np.shape(y_train_binary):  (19102,)\n"
     ]
    },
    {
     "name": "stderr",
     "output_type": "stream",
     "text": [
      "[Parallel(n_jobs=4)]: Using backend ThreadingBackend with 4 concurrent workers.\n",
      "[Parallel(n_jobs=4)]: Done  42 tasks      | elapsed:    0.1s\n",
      "[Parallel(n_jobs=4)]: Done 192 tasks      | elapsed:    0.3s\n",
      "[Parallel(n_jobs=4)]: Done 442 tasks      | elapsed:    0.6s\n",
      "[Parallel(n_jobs=4)]: Done 792 tasks      | elapsed:    1.2s\n",
      "[Parallel(n_jobs=4)]: Done 800 out of 800 | elapsed:    1.2s finished\n",
      "[Parallel(n_jobs=4)]: Using backend ThreadingBackend with 4 concurrent workers.\n",
      "[Parallel(n_jobs=4)]: Done  42 tasks      | elapsed:    0.1s\n"
     ]
    },
    {
     "name": "stdout",
     "output_type": "stream",
     "text": [
      "Accuracy on train data:  0.8315883153596482\n"
     ]
    },
    {
     "name": "stderr",
     "output_type": "stream",
     "text": [
      "[Parallel(n_jobs=4)]: Done 192 tasks      | elapsed:    0.3s\n",
      "[Parallel(n_jobs=4)]: Done 442 tasks      | elapsed:    0.7s\n",
      "[Parallel(n_jobs=4)]: Done 792 tasks      | elapsed:    1.1s\n",
      "[Parallel(n_jobs=4)]: Done 800 out of 800 | elapsed:    1.1s finished\n",
      "[Parallel(n_jobs=4)]: Using backend ThreadingBackend with 4 concurrent workers.\n",
      "[Parallel(n_jobs=4)]: Done  42 tasks      | elapsed:    0.0s\n",
      "[Parallel(n_jobs=4)]: Done 192 tasks      | elapsed:    0.1s\n",
      "[Parallel(n_jobs=4)]: Done 442 tasks      | elapsed:    0.2s\n"
     ]
    },
    {
     "name": "stdout",
     "output_type": "stream",
     "text": [
      "np.shape(X_test):  (4898, 8)\n",
      "np.shape(y_test_binary):  (4898,)\n"
     ]
    },
    {
     "name": "stderr",
     "output_type": "stream",
     "text": [
      "[Parallel(n_jobs=4)]: Done 792 tasks      | elapsed:    0.3s\n",
      "[Parallel(n_jobs=4)]: Done 800 out of 800 | elapsed:    0.3s finished\n",
      "[Parallel(n_jobs=4)]: Using backend ThreadingBackend with 4 concurrent workers.\n",
      "[Parallel(n_jobs=4)]: Done  42 tasks      | elapsed:    0.0s\n",
      "[Parallel(n_jobs=4)]: Done 192 tasks      | elapsed:    0.1s\n",
      "[Parallel(n_jobs=4)]: Done 442 tasks      | elapsed:    0.2s\n"
     ]
    },
    {
     "name": "stdout",
     "output_type": "stream",
     "text": [
      "Accuracy on test data:  0.6923233973050225\n"
     ]
    },
    {
     "name": "stderr",
     "output_type": "stream",
     "text": [
      "[Parallel(n_jobs=4)]: Done 792 tasks      | elapsed:    0.5s\n",
      "[Parallel(n_jobs=4)]: Done 800 out of 800 | elapsed:    0.5s finished\n"
     ]
    },
    {
     "name": "stdout",
     "output_type": "stream",
     "text": [
      "np.shape(X_train):  (19187, 9)\n",
      "np.shape(y_train_binary):  (19187,)\n"
     ]
    },
    {
     "name": "stderr",
     "output_type": "stream",
     "text": [
      "[Parallel(n_jobs=4)]: Using backend ThreadingBackend with 4 concurrent workers.\n",
      "[Parallel(n_jobs=4)]: Done  42 tasks      | elapsed:    0.1s\n",
      "[Parallel(n_jobs=4)]: Done 192 tasks      | elapsed:    0.3s\n",
      "[Parallel(n_jobs=4)]: Done 442 tasks      | elapsed:    0.6s\n",
      "[Parallel(n_jobs=4)]: Done 792 tasks      | elapsed:    1.1s\n",
      "[Parallel(n_jobs=4)]: Done 800 out of 800 | elapsed:    1.1s finished\n",
      "[Parallel(n_jobs=4)]: Using backend ThreadingBackend with 4 concurrent workers.\n",
      "[Parallel(n_jobs=4)]: Done  42 tasks      | elapsed:    0.1s\n"
     ]
    },
    {
     "name": "stdout",
     "output_type": "stream",
     "text": [
      "Accuracy on train data:  0.8491165893573774\n"
     ]
    },
    {
     "name": "stderr",
     "output_type": "stream",
     "text": [
      "[Parallel(n_jobs=4)]: Done 192 tasks      | elapsed:    0.3s\n",
      "[Parallel(n_jobs=4)]: Done 442 tasks      | elapsed:    0.6s\n",
      "[Parallel(n_jobs=4)]: Done 792 tasks      | elapsed:    1.1s\n",
      "[Parallel(n_jobs=4)]: Done 800 out of 800 | elapsed:    1.1s finished\n",
      "[Parallel(n_jobs=4)]: Using backend ThreadingBackend with 4 concurrent workers.\n",
      "[Parallel(n_jobs=4)]: Done  42 tasks      | elapsed:    0.0s\n",
      "[Parallel(n_jobs=4)]: Done 192 tasks      | elapsed:    0.1s\n",
      "[Parallel(n_jobs=4)]: Done 442 tasks      | elapsed:    0.2s\n"
     ]
    },
    {
     "name": "stdout",
     "output_type": "stream",
     "text": [
      "np.shape(X_test):  (4813, 9)\n",
      "np.shape(y_test_binary):  (4813,)\n"
     ]
    },
    {
     "name": "stderr",
     "output_type": "stream",
     "text": [
      "[Parallel(n_jobs=4)]: Done 792 tasks      | elapsed:    0.4s\n",
      "[Parallel(n_jobs=4)]: Done 800 out of 800 | elapsed:    0.4s finished\n",
      "[Parallel(n_jobs=4)]: Using backend ThreadingBackend with 4 concurrent workers.\n",
      "[Parallel(n_jobs=4)]: Done  42 tasks      | elapsed:    0.0s\n",
      "[Parallel(n_jobs=4)]: Done 192 tasks      | elapsed:    0.1s\n",
      "[Parallel(n_jobs=4)]: Done 442 tasks      | elapsed:    0.2s\n"
     ]
    },
    {
     "name": "stdout",
     "output_type": "stream",
     "text": [
      "Accuracy on test data:  0.7143153958030335\n"
     ]
    },
    {
     "name": "stderr",
     "output_type": "stream",
     "text": [
      "[Parallel(n_jobs=4)]: Done 792 tasks      | elapsed:    0.3s\n",
      "[Parallel(n_jobs=4)]: Done 800 out of 800 | elapsed:    0.3s finished\n",
      "[Parallel(n_jobs=4)]: Using backend ThreadingBackend with 4 concurrent workers.\n",
      "[Parallel(n_jobs=4)]: Done  42 tasks      | elapsed:    0.1s\n"
     ]
    },
    {
     "name": "stdout",
     "output_type": "stream",
     "text": [
      "np.shape(X_train):  (19197, 10)\n",
      "np.shape(y_train_binary):  (19197,)\n"
     ]
    },
    {
     "name": "stderr",
     "output_type": "stream",
     "text": [
      "[Parallel(n_jobs=4)]: Done 192 tasks      | elapsed:    0.3s\n",
      "[Parallel(n_jobs=4)]: Done 442 tasks      | elapsed:    0.6s\n",
      "[Parallel(n_jobs=4)]: Done 792 tasks      | elapsed:    1.1s\n",
      "[Parallel(n_jobs=4)]: Done 800 out of 800 | elapsed:    1.1s finished\n",
      "[Parallel(n_jobs=4)]: Using backend ThreadingBackend with 4 concurrent workers.\n",
      "[Parallel(n_jobs=4)]: Done  42 tasks      | elapsed:    0.1s\n"
     ]
    },
    {
     "name": "stdout",
     "output_type": "stream",
     "text": [
      "Accuracy on train data:  0.8523206751054853\n"
     ]
    },
    {
     "name": "stderr",
     "output_type": "stream",
     "text": [
      "[Parallel(n_jobs=4)]: Done 192 tasks      | elapsed:    0.3s\n",
      "[Parallel(n_jobs=4)]: Done 442 tasks      | elapsed:    0.6s\n",
      "[Parallel(n_jobs=4)]: Done 792 tasks      | elapsed:    1.2s\n",
      "[Parallel(n_jobs=4)]: Done 800 out of 800 | elapsed:    1.2s finished\n",
      "[Parallel(n_jobs=4)]: Using backend ThreadingBackend with 4 concurrent workers.\n",
      "[Parallel(n_jobs=4)]: Done  42 tasks      | elapsed:    0.0s\n",
      "[Parallel(n_jobs=4)]: Done 192 tasks      | elapsed:    0.1s\n"
     ]
    },
    {
     "name": "stdout",
     "output_type": "stream",
     "text": [
      "np.shape(X_test):  (4803, 10)\n",
      "np.shape(y_test_binary):  (4803,)\n"
     ]
    },
    {
     "name": "stderr",
     "output_type": "stream",
     "text": [
      "[Parallel(n_jobs=4)]: Done 442 tasks      | elapsed:    0.2s\n",
      "[Parallel(n_jobs=4)]: Done 792 tasks      | elapsed:    0.4s\n",
      "[Parallel(n_jobs=4)]: Done 800 out of 800 | elapsed:    0.4s finished\n",
      "[Parallel(n_jobs=4)]: Using backend ThreadingBackend with 4 concurrent workers.\n"
     ]
    },
    {
     "name": "stdout",
     "output_type": "stream",
     "text": [
      "Accuracy on test data:  0.7310014574224443\n"
     ]
    },
    {
     "name": "stderr",
     "output_type": "stream",
     "text": [
      "[Parallel(n_jobs=4)]: Done  42 tasks      | elapsed:    0.0s\n",
      "[Parallel(n_jobs=4)]: Done 192 tasks      | elapsed:    0.1s\n",
      "[Parallel(n_jobs=4)]: Done 442 tasks      | elapsed:    0.2s\n",
      "[Parallel(n_jobs=4)]: Done 792 tasks      | elapsed:    0.4s\n",
      "[Parallel(n_jobs=4)]: Done 800 out of 800 | elapsed:    0.4s finished\n",
      "[Parallel(n_jobs=4)]: Using backend ThreadingBackend with 4 concurrent workers.\n",
      "[Parallel(n_jobs=4)]: Done  42 tasks      | elapsed:    0.1s\n"
     ]
    },
    {
     "name": "stdout",
     "output_type": "stream",
     "text": [
      "np.shape(X_train):  (19173, 20)\n",
      "np.shape(y_train_binary):  (19173,)\n"
     ]
    },
    {
     "name": "stderr",
     "output_type": "stream",
     "text": [
      "[Parallel(n_jobs=4)]: Done 192 tasks      | elapsed:    0.3s\n",
      "[Parallel(n_jobs=4)]: Done 442 tasks      | elapsed:    0.7s\n",
      "[Parallel(n_jobs=4)]: Done 792 tasks      | elapsed:    1.2s\n",
      "[Parallel(n_jobs=4)]: Done 800 out of 800 | elapsed:    1.2s finished\n",
      "[Parallel(n_jobs=4)]: Using backend ThreadingBackend with 4 concurrent workers.\n",
      "[Parallel(n_jobs=4)]: Done  42 tasks      | elapsed:    0.1s\n"
     ]
    },
    {
     "name": "stdout",
     "output_type": "stream",
     "text": [
      "Accuracy on train data:  0.8828560997235696\n"
     ]
    },
    {
     "name": "stderr",
     "output_type": "stream",
     "text": [
      "[Parallel(n_jobs=4)]: Done 192 tasks      | elapsed:    0.3s\n",
      "[Parallel(n_jobs=4)]: Done 442 tasks      | elapsed:    0.7s\n",
      "[Parallel(n_jobs=4)]: Done 792 tasks      | elapsed:    1.2s\n",
      "[Parallel(n_jobs=4)]: Done 800 out of 800 | elapsed:    1.2s finished\n",
      "[Parallel(n_jobs=4)]: Using backend ThreadingBackend with 4 concurrent workers.\n",
      "[Parallel(n_jobs=4)]: Done  42 tasks      | elapsed:    0.0s\n",
      "[Parallel(n_jobs=4)]: Done 192 tasks      | elapsed:    0.1s\n"
     ]
    },
    {
     "name": "stdout",
     "output_type": "stream",
     "text": [
      "np.shape(X_test):  (4827, 20)\n",
      "np.shape(y_test_binary):  (4827,)\n"
     ]
    },
    {
     "name": "stderr",
     "output_type": "stream",
     "text": [
      "[Parallel(n_jobs=4)]: Done 442 tasks      | elapsed:    0.2s\n",
      "[Parallel(n_jobs=4)]: Done 792 tasks      | elapsed:    0.4s\n",
      "[Parallel(n_jobs=4)]: Done 800 out of 800 | elapsed:    0.4s finished\n",
      "[Parallel(n_jobs=4)]: Using backend ThreadingBackend with 4 concurrent workers.\n",
      "[Parallel(n_jobs=4)]: Done  42 tasks      | elapsed:    0.0s\n"
     ]
    },
    {
     "name": "stdout",
     "output_type": "stream",
     "text": [
      "Accuracy on test data:  0.7634141288585042\n"
     ]
    },
    {
     "name": "stderr",
     "output_type": "stream",
     "text": [
      "[Parallel(n_jobs=4)]: Done 192 tasks      | elapsed:    0.1s\n",
      "[Parallel(n_jobs=4)]: Done 442 tasks      | elapsed:    0.2s\n",
      "[Parallel(n_jobs=4)]: Done 792 tasks      | elapsed:    0.4s\n",
      "[Parallel(n_jobs=4)]: Done 800 out of 800 | elapsed:    0.4s finished\n"
     ]
    },
    {
     "name": "stdout",
     "output_type": "stream",
     "text": [
      "np.shape(X_train):  (19224, 30)\n",
      "np.shape(y_train_binary):  (19224,)\n"
     ]
    },
    {
     "name": "stderr",
     "output_type": "stream",
     "text": [
      "[Parallel(n_jobs=4)]: Using backend ThreadingBackend with 4 concurrent workers.\n",
      "[Parallel(n_jobs=4)]: Done  42 tasks      | elapsed:    0.1s\n",
      "[Parallel(n_jobs=4)]: Done 192 tasks      | elapsed:    0.4s\n",
      "[Parallel(n_jobs=4)]: Done 442 tasks      | elapsed:    0.7s\n",
      "[Parallel(n_jobs=4)]: Done 792 tasks      | elapsed:    1.3s\n",
      "[Parallel(n_jobs=4)]: Done 800 out of 800 | elapsed:    1.3s finished\n",
      "[Parallel(n_jobs=4)]: Using backend ThreadingBackend with 4 concurrent workers.\n",
      "[Parallel(n_jobs=4)]: Done  42 tasks      | elapsed:    0.1s\n"
     ]
    },
    {
     "name": "stdout",
     "output_type": "stream",
     "text": [
      "Accuracy on train data:  0.893414481897628\n"
     ]
    },
    {
     "name": "stderr",
     "output_type": "stream",
     "text": [
      "[Parallel(n_jobs=4)]: Done 192 tasks      | elapsed:    0.3s\n",
      "[Parallel(n_jobs=4)]: Done 442 tasks      | elapsed:    0.7s\n",
      "[Parallel(n_jobs=4)]: Done 792 tasks      | elapsed:    1.6s\n",
      "[Parallel(n_jobs=4)]: Done 800 out of 800 | elapsed:    1.6s finished\n",
      "[Parallel(n_jobs=4)]: Using backend ThreadingBackend with 4 concurrent workers.\n",
      "[Parallel(n_jobs=4)]: Done  42 tasks      | elapsed:    0.0s\n",
      "[Parallel(n_jobs=4)]: Done 192 tasks      | elapsed:    0.1s\n"
     ]
    },
    {
     "name": "stdout",
     "output_type": "stream",
     "text": [
      "np.shape(X_test):  (4776, 30)\n",
      "np.shape(y_test_binary):  (4776,)\n"
     ]
    },
    {
     "name": "stderr",
     "output_type": "stream",
     "text": [
      "[Parallel(n_jobs=4)]: Done 442 tasks      | elapsed:    0.3s\n",
      "[Parallel(n_jobs=4)]: Done 792 tasks      | elapsed:    0.4s\n",
      "[Parallel(n_jobs=4)]: Done 800 out of 800 | elapsed:    0.4s finished\n",
      "[Parallel(n_jobs=4)]: Using backend ThreadingBackend with 4 concurrent workers.\n",
      "[Parallel(n_jobs=4)]: Done  42 tasks      | elapsed:    0.0s\n"
     ]
    },
    {
     "name": "stdout",
     "output_type": "stream",
     "text": [
      "Accuracy on test data:  0.7784757118927973\n"
     ]
    },
    {
     "name": "stderr",
     "output_type": "stream",
     "text": [
      "[Parallel(n_jobs=4)]: Done 192 tasks      | elapsed:    0.1s\n",
      "[Parallel(n_jobs=4)]: Done 442 tasks      | elapsed:    0.2s\n",
      "[Parallel(n_jobs=4)]: Done 792 tasks      | elapsed:    0.4s\n",
      "[Parallel(n_jobs=4)]: Done 800 out of 800 | elapsed:    0.4s finished\n"
     ]
    },
    {
     "name": "stdout",
     "output_type": "stream",
     "text": [
      "np.shape(X_train):  (19296, 40)\n",
      "np.shape(y_train_binary):  (19296,)\n"
     ]
    },
    {
     "name": "stderr",
     "output_type": "stream",
     "text": [
      "[Parallel(n_jobs=4)]: Using backend ThreadingBackend with 4 concurrent workers.\n",
      "[Parallel(n_jobs=4)]: Done  42 tasks      | elapsed:    0.1s\n",
      "[Parallel(n_jobs=4)]: Done 192 tasks      | elapsed:    0.3s\n",
      "[Parallel(n_jobs=4)]: Done 442 tasks      | elapsed:    0.7s\n",
      "[Parallel(n_jobs=4)]: Done 792 tasks      | elapsed:    1.3s\n",
      "[Parallel(n_jobs=4)]: Done 800 out of 800 | elapsed:    1.3s finished\n",
      "[Parallel(n_jobs=4)]: Using backend ThreadingBackend with 4 concurrent workers.\n",
      "[Parallel(n_jobs=4)]: Done  42 tasks      | elapsed:    0.1s\n"
     ]
    },
    {
     "name": "stdout",
     "output_type": "stream",
     "text": [
      "Accuracy on train data:  0.9049543946932007\n"
     ]
    },
    {
     "name": "stderr",
     "output_type": "stream",
     "text": [
      "[Parallel(n_jobs=4)]: Done 192 tasks      | elapsed:    0.4s\n",
      "[Parallel(n_jobs=4)]: Done 442 tasks      | elapsed:    0.8s\n",
      "[Parallel(n_jobs=4)]: Done 792 tasks      | elapsed:    1.3s\n",
      "[Parallel(n_jobs=4)]: Done 800 out of 800 | elapsed:    1.3s finished\n",
      "[Parallel(n_jobs=4)]: Using backend ThreadingBackend with 4 concurrent workers.\n",
      "[Parallel(n_jobs=4)]: Done  42 tasks      | elapsed:    0.0s\n",
      "[Parallel(n_jobs=4)]: Done 192 tasks      | elapsed:    0.1s\n"
     ]
    },
    {
     "name": "stdout",
     "output_type": "stream",
     "text": [
      "np.shape(X_test):  (4704, 40)\n",
      "np.shape(y_test_binary):  (4704,)\n"
     ]
    },
    {
     "name": "stderr",
     "output_type": "stream",
     "text": [
      "[Parallel(n_jobs=4)]: Done 442 tasks      | elapsed:    0.2s\n",
      "[Parallel(n_jobs=4)]: Done 792 tasks      | elapsed:    0.4s\n",
      "[Parallel(n_jobs=4)]: Done 800 out of 800 | elapsed:    0.4s finished\n",
      "[Parallel(n_jobs=4)]: Using backend ThreadingBackend with 4 concurrent workers.\n",
      "[Parallel(n_jobs=4)]: Done  42 tasks      | elapsed:    0.0s\n",
      "[Parallel(n_jobs=4)]: Done 192 tasks      | elapsed:    0.1s\n"
     ]
    },
    {
     "name": "stdout",
     "output_type": "stream",
     "text": [
      "Accuracy on test data:  0.8031462585034014\n"
     ]
    },
    {
     "name": "stderr",
     "output_type": "stream",
     "text": [
      "[Parallel(n_jobs=4)]: Done 442 tasks      | elapsed:    0.2s\n",
      "[Parallel(n_jobs=4)]: Done 792 tasks      | elapsed:    0.5s\n",
      "[Parallel(n_jobs=4)]: Done 800 out of 800 | elapsed:    0.5s finished\n",
      "[Parallel(n_jobs=4)]: Using backend ThreadingBackend with 4 concurrent workers.\n"
     ]
    },
    {
     "name": "stdout",
     "output_type": "stream",
     "text": [
      "np.shape(X_train):  (19234, 50)\n",
      "np.shape(y_train_binary):  (19234,)\n"
     ]
    },
    {
     "name": "stderr",
     "output_type": "stream",
     "text": [
      "[Parallel(n_jobs=4)]: Done  42 tasks      | elapsed:    0.1s\n",
      "[Parallel(n_jobs=4)]: Done 192 tasks      | elapsed:    0.3s\n",
      "[Parallel(n_jobs=4)]: Done 442 tasks      | elapsed:    0.8s\n",
      "[Parallel(n_jobs=4)]: Done 792 tasks      | elapsed:    1.4s\n",
      "[Parallel(n_jobs=4)]: Done 800 out of 800 | elapsed:    1.4s finished\n",
      "[Parallel(n_jobs=4)]: Using backend ThreadingBackend with 4 concurrent workers.\n",
      "[Parallel(n_jobs=4)]: Done  42 tasks      | elapsed:    0.1s\n"
     ]
    },
    {
     "name": "stdout",
     "output_type": "stream",
     "text": [
      "Accuracy on train data:  0.9138504731205157\n"
     ]
    },
    {
     "name": "stderr",
     "output_type": "stream",
     "text": [
      "[Parallel(n_jobs=4)]: Done 192 tasks      | elapsed:    0.3s\n",
      "[Parallel(n_jobs=4)]: Done 442 tasks      | elapsed:    0.8s\n",
      "[Parallel(n_jobs=4)]: Done 792 tasks      | elapsed:    1.4s\n",
      "[Parallel(n_jobs=4)]: Done 800 out of 800 | elapsed:    1.5s finished\n",
      "[Parallel(n_jobs=4)]: Using backend ThreadingBackend with 4 concurrent workers.\n",
      "[Parallel(n_jobs=4)]: Done  42 tasks      | elapsed:    0.0s\n",
      "[Parallel(n_jobs=4)]: Done 192 tasks      | elapsed:    0.1s\n"
     ]
    },
    {
     "name": "stdout",
     "output_type": "stream",
     "text": [
      "np.shape(X_test):  (4766, 50)\n",
      "np.shape(y_test_binary):  (4766,)\n"
     ]
    },
    {
     "name": "stderr",
     "output_type": "stream",
     "text": [
      "[Parallel(n_jobs=4)]: Done 442 tasks      | elapsed:    0.3s\n",
      "[Parallel(n_jobs=4)]: Done 792 tasks      | elapsed:    0.4s\n",
      "[Parallel(n_jobs=4)]: Done 800 out of 800 | elapsed:    0.4s finished\n",
      "[Parallel(n_jobs=4)]: Using backend ThreadingBackend with 4 concurrent workers.\n"
     ]
    },
    {
     "name": "stdout",
     "output_type": "stream",
     "text": [
      "Accuracy on test data:  0.7943768359211079\n"
     ]
    },
    {
     "name": "stderr",
     "output_type": "stream",
     "text": [
      "[Parallel(n_jobs=4)]: Done  42 tasks      | elapsed:    0.0s\n",
      "[Parallel(n_jobs=4)]: Done 192 tasks      | elapsed:    0.1s\n",
      "[Parallel(n_jobs=4)]: Done 442 tasks      | elapsed:    0.2s\n",
      "[Parallel(n_jobs=4)]: Done 792 tasks      | elapsed:    0.4s\n",
      "[Parallel(n_jobs=4)]: Done 800 out of 800 | elapsed:    0.4s finished\n"
     ]
    },
    {
     "name": "stdout",
     "output_type": "stream",
     "text": [
      "np.shape(X_train):  (19178, 60)\n",
      "np.shape(y_train_binary):  (19178,)\n"
     ]
    },
    {
     "name": "stderr",
     "output_type": "stream",
     "text": [
      "[Parallel(n_jobs=4)]: Using backend ThreadingBackend with 4 concurrent workers.\n",
      "[Parallel(n_jobs=4)]: Done  42 tasks      | elapsed:    0.1s\n",
      "[Parallel(n_jobs=4)]: Done 192 tasks      | elapsed:    0.4s\n",
      "[Parallel(n_jobs=4)]: Done 442 tasks      | elapsed:    0.8s\n",
      "[Parallel(n_jobs=4)]: Done 792 tasks      | elapsed:    1.3s\n",
      "[Parallel(n_jobs=4)]: Done 800 out of 800 | elapsed:    1.4s finished\n",
      "[Parallel(n_jobs=4)]: Using backend ThreadingBackend with 4 concurrent workers.\n",
      "[Parallel(n_jobs=4)]: Done  42 tasks      | elapsed:    0.1s\n"
     ]
    },
    {
     "name": "stdout",
     "output_type": "stream",
     "text": [
      "Accuracy on train data:  0.9233496714985922\n"
     ]
    },
    {
     "name": "stderr",
     "output_type": "stream",
     "text": [
      "[Parallel(n_jobs=4)]: Done 192 tasks      | elapsed:    0.3s\n",
      "[Parallel(n_jobs=4)]: Done 442 tasks      | elapsed:    0.7s\n",
      "[Parallel(n_jobs=4)]: Done 792 tasks      | elapsed:    1.3s\n",
      "[Parallel(n_jobs=4)]: Done 800 out of 800 | elapsed:    1.3s finished\n",
      "[Parallel(n_jobs=4)]: Using backend ThreadingBackend with 4 concurrent workers.\n",
      "[Parallel(n_jobs=4)]: Done  42 tasks      | elapsed:    0.0s\n",
      "[Parallel(n_jobs=4)]: Done 192 tasks      | elapsed:    0.1s\n"
     ]
    },
    {
     "name": "stdout",
     "output_type": "stream",
     "text": [
      "np.shape(X_test):  (4822, 60)\n",
      "np.shape(y_test_binary):  (4822,)\n"
     ]
    },
    {
     "name": "stderr",
     "output_type": "stream",
     "text": [
      "[Parallel(n_jobs=4)]: Done 442 tasks      | elapsed:    0.2s\n",
      "[Parallel(n_jobs=4)]: Done 792 tasks      | elapsed:    0.4s\n",
      "[Parallel(n_jobs=4)]: Done 800 out of 800 | elapsed:    0.4s finished\n",
      "[Parallel(n_jobs=4)]: Using backend ThreadingBackend with 4 concurrent workers.\n",
      "[Parallel(n_jobs=4)]: Done  42 tasks      | elapsed:    0.0s\n"
     ]
    },
    {
     "name": "stdout",
     "output_type": "stream",
     "text": [
      "Accuracy on test data:  0.8187474077146413\n"
     ]
    },
    {
     "name": "stderr",
     "output_type": "stream",
     "text": [
      "[Parallel(n_jobs=4)]: Done 192 tasks      | elapsed:    0.1s\n",
      "[Parallel(n_jobs=4)]: Done 442 tasks      | elapsed:    0.3s\n",
      "[Parallel(n_jobs=4)]: Done 792 tasks      | elapsed:    0.4s\n",
      "[Parallel(n_jobs=4)]: Done 800 out of 800 | elapsed:    0.4s finished\n"
     ]
    },
    {
     "name": "stdout",
     "output_type": "stream",
     "text": [
      "np.shape(X_train):  (19174, 70)\n",
      "np.shape(y_train_binary):  (19174,)\n"
     ]
    },
    {
     "name": "stderr",
     "output_type": "stream",
     "text": [
      "[Parallel(n_jobs=4)]: Using backend ThreadingBackend with 4 concurrent workers.\n",
      "[Parallel(n_jobs=4)]: Done  42 tasks      | elapsed:    0.1s\n",
      "[Parallel(n_jobs=4)]: Done 192 tasks      | elapsed:    0.3s\n",
      "[Parallel(n_jobs=4)]: Done 442 tasks      | elapsed:    0.8s\n",
      "[Parallel(n_jobs=4)]: Done 792 tasks      | elapsed:    1.4s\n",
      "[Parallel(n_jobs=4)]: Done 800 out of 800 | elapsed:    1.4s finished\n",
      "[Parallel(n_jobs=4)]: Using backend ThreadingBackend with 4 concurrent workers.\n",
      "[Parallel(n_jobs=4)]: Done  42 tasks      | elapsed:    0.1s\n"
     ]
    },
    {
     "name": "stdout",
     "output_type": "stream",
     "text": [
      "Accuracy on train data:  0.9296443100031292\n"
     ]
    },
    {
     "name": "stderr",
     "output_type": "stream",
     "text": [
      "[Parallel(n_jobs=4)]: Done 192 tasks      | elapsed:    0.4s\n",
      "[Parallel(n_jobs=4)]: Done 442 tasks      | elapsed:    0.8s\n",
      "[Parallel(n_jobs=4)]: Done 792 tasks      | elapsed:    1.4s\n",
      "[Parallel(n_jobs=4)]: Done 800 out of 800 | elapsed:    1.4s finished\n",
      "[Parallel(n_jobs=4)]: Using backend ThreadingBackend with 4 concurrent workers.\n",
      "[Parallel(n_jobs=4)]: Done  42 tasks      | elapsed:    0.0s\n",
      "[Parallel(n_jobs=4)]: Done 192 tasks      | elapsed:    0.1s\n"
     ]
    },
    {
     "name": "stdout",
     "output_type": "stream",
     "text": [
      "np.shape(X_test):  (4826, 70)\n",
      "np.shape(y_test_binary):  (4826,)\n"
     ]
    },
    {
     "name": "stderr",
     "output_type": "stream",
     "text": [
      "[Parallel(n_jobs=4)]: Done 442 tasks      | elapsed:    0.2s\n",
      "[Parallel(n_jobs=4)]: Done 792 tasks      | elapsed:    0.4s\n",
      "[Parallel(n_jobs=4)]: Done 800 out of 800 | elapsed:    0.4s finished\n",
      "[Parallel(n_jobs=4)]: Using backend ThreadingBackend with 4 concurrent workers.\n",
      "[Parallel(n_jobs=4)]: Done  42 tasks      | elapsed:    0.0s\n"
     ]
    },
    {
     "name": "stdout",
     "output_type": "stream",
     "text": [
      "Accuracy on test data:  0.8350600911728139\n"
     ]
    },
    {
     "name": "stderr",
     "output_type": "stream",
     "text": [
      "[Parallel(n_jobs=4)]: Done 192 tasks      | elapsed:    0.1s\n",
      "[Parallel(n_jobs=4)]: Done 442 tasks      | elapsed:    0.2s\n",
      "[Parallel(n_jobs=4)]: Done 792 tasks      | elapsed:    0.4s\n",
      "[Parallel(n_jobs=4)]: Done 800 out of 800 | elapsed:    0.4s finished\n"
     ]
    },
    {
     "name": "stdout",
     "output_type": "stream",
     "text": [
      "np.shape(X_train):  (19275, 80)\n",
      "np.shape(y_train_binary):  (19275,)\n"
     ]
    },
    {
     "name": "stderr",
     "output_type": "stream",
     "text": [
      "[Parallel(n_jobs=4)]: Using backend ThreadingBackend with 4 concurrent workers.\n",
      "[Parallel(n_jobs=4)]: Done  42 tasks      | elapsed:    0.1s\n",
      "[Parallel(n_jobs=4)]: Done 192 tasks      | elapsed:    0.4s\n",
      "[Parallel(n_jobs=4)]: Done 442 tasks      | elapsed:    0.8s\n",
      "[Parallel(n_jobs=4)]: Done 792 tasks      | elapsed:    1.5s\n",
      "[Parallel(n_jobs=4)]: Done 800 out of 800 | elapsed:    1.5s finished\n",
      "[Parallel(n_jobs=4)]: Using backend ThreadingBackend with 4 concurrent workers.\n",
      "[Parallel(n_jobs=4)]: Done  42 tasks      | elapsed:    0.1s\n"
     ]
    },
    {
     "name": "stdout",
     "output_type": "stream",
     "text": [
      "Accuracy on train data:  0.9369130998702984\n"
     ]
    },
    {
     "name": "stderr",
     "output_type": "stream",
     "text": [
      "[Parallel(n_jobs=4)]: Done 192 tasks      | elapsed:    0.4s\n",
      "[Parallel(n_jobs=4)]: Done 442 tasks      | elapsed:    0.8s\n",
      "[Parallel(n_jobs=4)]: Done 792 tasks      | elapsed:    1.4s\n",
      "[Parallel(n_jobs=4)]: Done 800 out of 800 | elapsed:    1.4s finished\n",
      "[Parallel(n_jobs=4)]: Using backend ThreadingBackend with 4 concurrent workers.\n",
      "[Parallel(n_jobs=4)]: Done  42 tasks      | elapsed:    0.0s\n",
      "[Parallel(n_jobs=4)]: Done 192 tasks      | elapsed:    0.1s\n"
     ]
    },
    {
     "name": "stdout",
     "output_type": "stream",
     "text": [
      "np.shape(X_test):  (4725, 80)\n",
      "np.shape(y_test_binary):  (4725,)\n"
     ]
    },
    {
     "name": "stderr",
     "output_type": "stream",
     "text": [
      "[Parallel(n_jobs=4)]: Done 442 tasks      | elapsed:    0.3s\n",
      "[Parallel(n_jobs=4)]: Done 792 tasks      | elapsed:    0.4s\n",
      "[Parallel(n_jobs=4)]: Done 800 out of 800 | elapsed:    0.4s finished\n",
      "[Parallel(n_jobs=4)]: Using backend ThreadingBackend with 4 concurrent workers.\n"
     ]
    },
    {
     "name": "stdout",
     "output_type": "stream",
     "text": [
      "Accuracy on test data:  0.8391534391534392\n"
     ]
    },
    {
     "name": "stderr",
     "output_type": "stream",
     "text": [
      "[Parallel(n_jobs=4)]: Done  42 tasks      | elapsed:    0.0s\n",
      "[Parallel(n_jobs=4)]: Done 192 tasks      | elapsed:    0.1s\n",
      "[Parallel(n_jobs=4)]: Done 442 tasks      | elapsed:    0.3s\n",
      "[Parallel(n_jobs=4)]: Done 792 tasks      | elapsed:    0.5s\n",
      "[Parallel(n_jobs=4)]: Done 800 out of 800 | elapsed:    0.5s finished\n"
     ]
    },
    {
     "name": "stdout",
     "output_type": "stream",
     "text": [
      "np.shape(X_train):  (19235, 90)\n",
      "np.shape(y_train_binary):  (19235,)\n"
     ]
    },
    {
     "name": "stderr",
     "output_type": "stream",
     "text": [
      "[Parallel(n_jobs=4)]: Using backend ThreadingBackend with 4 concurrent workers.\n",
      "[Parallel(n_jobs=4)]: Done  42 tasks      | elapsed:    0.1s\n",
      "[Parallel(n_jobs=4)]: Done 192 tasks      | elapsed:    0.4s\n",
      "[Parallel(n_jobs=4)]: Done 442 tasks      | elapsed:    0.8s\n",
      "[Parallel(n_jobs=4)]: Done 792 tasks      | elapsed:    1.4s\n",
      "[Parallel(n_jobs=4)]: Done 800 out of 800 | elapsed:    1.4s finished\n",
      "[Parallel(n_jobs=4)]: Using backend ThreadingBackend with 4 concurrent workers.\n",
      "[Parallel(n_jobs=4)]: Done  42 tasks      | elapsed:    0.1s\n"
     ]
    },
    {
     "name": "stdout",
     "output_type": "stream",
     "text": [
      "Accuracy on train data:  0.9390174161684429\n"
     ]
    },
    {
     "name": "stderr",
     "output_type": "stream",
     "text": [
      "[Parallel(n_jobs=4)]: Done 192 tasks      | elapsed:    0.3s\n",
      "[Parallel(n_jobs=4)]: Done 442 tasks      | elapsed:    0.8s\n",
      "[Parallel(n_jobs=4)]: Done 792 tasks      | elapsed:    1.4s\n",
      "[Parallel(n_jobs=4)]: Done 800 out of 800 | elapsed:    1.5s finished\n",
      "[Parallel(n_jobs=4)]: Using backend ThreadingBackend with 4 concurrent workers.\n",
      "[Parallel(n_jobs=4)]: Done  42 tasks      | elapsed:    0.0s\n",
      "[Parallel(n_jobs=4)]: Done 192 tasks      | elapsed:    0.1s\n"
     ]
    },
    {
     "name": "stdout",
     "output_type": "stream",
     "text": [
      "np.shape(X_test):  (4765, 90)\n",
      "np.shape(y_test_binary):  (4765,)\n"
     ]
    },
    {
     "name": "stderr",
     "output_type": "stream",
     "text": [
      "[Parallel(n_jobs=4)]: Done 442 tasks      | elapsed:    0.2s\n",
      "[Parallel(n_jobs=4)]: Done 792 tasks      | elapsed:    0.5s\n",
      "[Parallel(n_jobs=4)]: Done 800 out of 800 | elapsed:    0.5s finished\n",
      "[Parallel(n_jobs=4)]: Using backend ThreadingBackend with 4 concurrent workers.\n",
      "[Parallel(n_jobs=4)]: Done  42 tasks      | elapsed:    0.0s\n",
      "[Parallel(n_jobs=4)]: Done 192 tasks      | elapsed:    0.1s\n"
     ]
    },
    {
     "name": "stdout",
     "output_type": "stream",
     "text": [
      "Accuracy on test data:  0.8459601259181532\n"
     ]
    },
    {
     "name": "stderr",
     "output_type": "stream",
     "text": [
      "[Parallel(n_jobs=4)]: Done 442 tasks      | elapsed:    0.2s\n",
      "[Parallel(n_jobs=4)]: Done 792 tasks      | elapsed:    0.4s\n",
      "[Parallel(n_jobs=4)]: Done 800 out of 800 | elapsed:    0.4s finished\n"
     ]
    },
    {
     "name": "stdout",
     "output_type": "stream",
     "text": [
      "np.shape(X_train):  (19147, 100)\n",
      "np.shape(y_train_binary):  (19147,)\n"
     ]
    },
    {
     "name": "stderr",
     "output_type": "stream",
     "text": [
      "[Parallel(n_jobs=4)]: Using backend ThreadingBackend with 4 concurrent workers.\n",
      "[Parallel(n_jobs=4)]: Done  42 tasks      | elapsed:    0.1s\n",
      "[Parallel(n_jobs=4)]: Done 192 tasks      | elapsed:    0.4s\n",
      "[Parallel(n_jobs=4)]: Done 442 tasks      | elapsed:    0.9s\n",
      "[Parallel(n_jobs=4)]: Done 792 tasks      | elapsed:    1.5s\n",
      "[Parallel(n_jobs=4)]: Done 800 out of 800 | elapsed:    1.5s finished\n",
      "[Parallel(n_jobs=4)]: Using backend ThreadingBackend with 4 concurrent workers.\n",
      "[Parallel(n_jobs=4)]: Done  42 tasks      | elapsed:    0.1s\n"
     ]
    },
    {
     "name": "stdout",
     "output_type": "stream",
     "text": [
      "Accuracy on train data:  0.9406173290854964\n"
     ]
    },
    {
     "name": "stderr",
     "output_type": "stream",
     "text": [
      "[Parallel(n_jobs=4)]: Done 192 tasks      | elapsed:    0.4s\n",
      "[Parallel(n_jobs=4)]: Done 442 tasks      | elapsed:    0.9s\n",
      "[Parallel(n_jobs=4)]: Done 792 tasks      | elapsed:    1.5s\n",
      "[Parallel(n_jobs=4)]: Done 800 out of 800 | elapsed:    1.5s finished\n",
      "[Parallel(n_jobs=4)]: Using backend ThreadingBackend with 4 concurrent workers.\n",
      "[Parallel(n_jobs=4)]: Done  42 tasks      | elapsed:    0.0s\n",
      "[Parallel(n_jobs=4)]: Done 192 tasks      | elapsed:    0.1s\n"
     ]
    },
    {
     "name": "stdout",
     "output_type": "stream",
     "text": [
      "np.shape(X_test):  (4853, 100)\n",
      "np.shape(y_test_binary):  (4853,)\n"
     ]
    },
    {
     "name": "stderr",
     "output_type": "stream",
     "text": [
      "[Parallel(n_jobs=4)]: Done 442 tasks      | elapsed:    0.3s\n",
      "[Parallel(n_jobs=4)]: Done 792 tasks      | elapsed:    0.5s\n",
      "[Parallel(n_jobs=4)]: Done 800 out of 800 | elapsed:    0.5s finished\n",
      "[Parallel(n_jobs=4)]: Using backend ThreadingBackend with 4 concurrent workers.\n"
     ]
    },
    {
     "name": "stdout",
     "output_type": "stream",
     "text": [
      "Accuracy on test data:  0.8504018133113538\n"
     ]
    },
    {
     "name": "stderr",
     "output_type": "stream",
     "text": [
      "[Parallel(n_jobs=4)]: Done  42 tasks      | elapsed:    0.0s\n",
      "[Parallel(n_jobs=4)]: Done 192 tasks      | elapsed:    0.1s\n",
      "[Parallel(n_jobs=4)]: Done 442 tasks      | elapsed:    0.3s\n",
      "[Parallel(n_jobs=4)]: Done 792 tasks      | elapsed:    0.5s\n",
      "[Parallel(n_jobs=4)]: Done 800 out of 800 | elapsed:    0.5s finished\n"
     ]
    },
    {
     "name": "stdout",
     "output_type": "stream",
     "text": [
      "np.shape(X_train):  (19265, 500)\n",
      "np.shape(y_train_binary):  (19265,)\n"
     ]
    },
    {
     "name": "stderr",
     "output_type": "stream",
     "text": [
      "[Parallel(n_jobs=4)]: Using backend ThreadingBackend with 4 concurrent workers.\n",
      "[Parallel(n_jobs=4)]: Done  42 tasks      | elapsed:    0.1s\n",
      "[Parallel(n_jobs=4)]: Done 192 tasks      | elapsed:    0.4s\n",
      "[Parallel(n_jobs=4)]: Done 442 tasks      | elapsed:    1.0s\n",
      "[Parallel(n_jobs=4)]: Done 792 tasks      | elapsed:    1.7s\n",
      "[Parallel(n_jobs=4)]: Done 800 out of 800 | elapsed:    1.7s finished\n",
      "[Parallel(n_jobs=4)]: Using backend ThreadingBackend with 4 concurrent workers.\n",
      "[Parallel(n_jobs=4)]: Done  42 tasks      | elapsed:    0.1s\n"
     ]
    },
    {
     "name": "stdout",
     "output_type": "stream",
     "text": [
      "Accuracy on train data:  0.9691149753438879\n"
     ]
    },
    {
     "name": "stderr",
     "output_type": "stream",
     "text": [
      "[Parallel(n_jobs=4)]: Done 192 tasks      | elapsed:    0.4s\n",
      "[Parallel(n_jobs=4)]: Done 442 tasks      | elapsed:    1.1s\n",
      "[Parallel(n_jobs=4)]: Done 792 tasks      | elapsed:    1.9s\n",
      "[Parallel(n_jobs=4)]: Done 800 out of 800 | elapsed:    1.9s finished\n",
      "[Parallel(n_jobs=4)]: Using backend ThreadingBackend with 4 concurrent workers.\n",
      "[Parallel(n_jobs=4)]: Done  42 tasks      | elapsed:    0.0s\n",
      "[Parallel(n_jobs=4)]: Done 192 tasks      | elapsed:    0.1s\n"
     ]
    },
    {
     "name": "stdout",
     "output_type": "stream",
     "text": [
      "np.shape(X_test):  (4735, 500)\n",
      "np.shape(y_test_binary):  (4735,)\n"
     ]
    },
    {
     "name": "stderr",
     "output_type": "stream",
     "text": [
      "[Parallel(n_jobs=4)]: Done 442 tasks      | elapsed:    0.3s\n",
      "[Parallel(n_jobs=4)]: Done 792 tasks      | elapsed:    0.5s\n",
      "[Parallel(n_jobs=4)]: Done 800 out of 800 | elapsed:    0.5s finished\n",
      "[Parallel(n_jobs=4)]: Using backend ThreadingBackend with 4 concurrent workers.\n",
      "[Parallel(n_jobs=4)]: Done  42 tasks      | elapsed:    0.0s\n",
      "[Parallel(n_jobs=4)]: Done 192 tasks      | elapsed:    0.1s\n"
     ]
    },
    {
     "name": "stdout",
     "output_type": "stream",
     "text": [
      "Accuracy on test data:  0.8817317845828934\n"
     ]
    },
    {
     "name": "stderr",
     "output_type": "stream",
     "text": [
      "[Parallel(n_jobs=4)]: Done 442 tasks      | elapsed:    0.3s\n",
      "[Parallel(n_jobs=4)]: Done 792 tasks      | elapsed:    0.5s\n",
      "[Parallel(n_jobs=4)]: Done 800 out of 800 | elapsed:    0.5s finished\n"
     ]
    },
    {
     "name": "stdout",
     "output_type": "stream",
     "text": [
      "np.shape(X_train):  (19210, 1000)\n",
      "np.shape(y_train_binary):  (19210,)\n"
     ]
    },
    {
     "name": "stderr",
     "output_type": "stream",
     "text": [
      "[Parallel(n_jobs=4)]: Using backend ThreadingBackend with 4 concurrent workers.\n",
      "[Parallel(n_jobs=4)]: Done  42 tasks      | elapsed:    0.1s\n",
      "[Parallel(n_jobs=4)]: Done 192 tasks      | elapsed:    0.4s\n",
      "[Parallel(n_jobs=4)]: Done 442 tasks      | elapsed:    0.9s\n",
      "[Parallel(n_jobs=4)]: Done 792 tasks      | elapsed:    1.7s\n",
      "[Parallel(n_jobs=4)]: Done 800 out of 800 | elapsed:    1.7s finished\n",
      "[Parallel(n_jobs=4)]: Using backend ThreadingBackend with 4 concurrent workers.\n"
     ]
    },
    {
     "name": "stdout",
     "output_type": "stream",
     "text": [
      "Accuracy on train data:  0.972306090577824\n"
     ]
    },
    {
     "name": "stderr",
     "output_type": "stream",
     "text": [
      "[Parallel(n_jobs=4)]: Done  42 tasks      | elapsed:    0.2s\n",
      "[Parallel(n_jobs=4)]: Done 192 tasks      | elapsed:    0.6s\n",
      "[Parallel(n_jobs=4)]: Done 442 tasks      | elapsed:    1.1s\n",
      "[Parallel(n_jobs=4)]: Done 792 tasks      | elapsed:    1.8s\n",
      "[Parallel(n_jobs=4)]: Done 800 out of 800 | elapsed:    1.8s finished\n",
      "[Parallel(n_jobs=4)]: Using backend ThreadingBackend with 4 concurrent workers.\n",
      "[Parallel(n_jobs=4)]: Done  42 tasks      | elapsed:    0.0s\n",
      "[Parallel(n_jobs=4)]: Done 192 tasks      | elapsed:    0.1s\n"
     ]
    },
    {
     "name": "stdout",
     "output_type": "stream",
     "text": [
      "np.shape(X_test):  (4790, 1000)\n",
      "np.shape(y_test_binary):  (4790,)\n"
     ]
    },
    {
     "name": "stderr",
     "output_type": "stream",
     "text": [
      "[Parallel(n_jobs=4)]: Done 442 tasks      | elapsed:    0.3s\n",
      "[Parallel(n_jobs=4)]: Done 792 tasks      | elapsed:    0.5s\n",
      "[Parallel(n_jobs=4)]: Done 800 out of 800 | elapsed:    0.5s finished\n",
      "[Parallel(n_jobs=4)]: Using backend ThreadingBackend with 4 concurrent workers.\n",
      "[Parallel(n_jobs=4)]: Done  42 tasks      | elapsed:    0.0s\n",
      "[Parallel(n_jobs=4)]: Done 192 tasks      | elapsed:    0.1s\n"
     ]
    },
    {
     "name": "stdout",
     "output_type": "stream",
     "text": [
      "Accuracy on test data:  0.9073068893528183\n"
     ]
    },
    {
     "name": "stderr",
     "output_type": "stream",
     "text": [
      "[Parallel(n_jobs=4)]: Done 442 tasks      | elapsed:    0.3s\n",
      "[Parallel(n_jobs=4)]: Done 792 tasks      | elapsed:    0.5s\n",
      "[Parallel(n_jobs=4)]: Done 800 out of 800 | elapsed:    0.5s finished\n"
     ]
    },
    {
     "name": "stdout",
     "output_type": "stream",
     "text": [
      "np.shape(X_train):  (19075, 1500)\n",
      "np.shape(y_train_binary):  (19075,)\n"
     ]
    },
    {
     "name": "stderr",
     "output_type": "stream",
     "text": [
      "[Parallel(n_jobs=4)]: Using backend ThreadingBackend with 4 concurrent workers.\n",
      "[Parallel(n_jobs=4)]: Done  42 tasks      | elapsed:    0.1s\n",
      "[Parallel(n_jobs=4)]: Done 192 tasks      | elapsed:    0.4s\n",
      "[Parallel(n_jobs=4)]: Done 442 tasks      | elapsed:    0.9s\n",
      "[Parallel(n_jobs=4)]: Done 792 tasks      | elapsed:    1.6s\n",
      "[Parallel(n_jobs=4)]: Done 800 out of 800 | elapsed:    1.6s finished\n",
      "[Parallel(n_jobs=4)]: Using backend ThreadingBackend with 4 concurrent workers.\n",
      "[Parallel(n_jobs=4)]: Done  42 tasks      | elapsed:    0.1s\n"
     ]
    },
    {
     "name": "stdout",
     "output_type": "stream",
     "text": [
      "Accuracy on train data:  0.973735255570118\n"
     ]
    },
    {
     "name": "stderr",
     "output_type": "stream",
     "text": [
      "[Parallel(n_jobs=4)]: Done 192 tasks      | elapsed:    0.4s\n",
      "[Parallel(n_jobs=4)]: Done 442 tasks      | elapsed:    0.9s\n",
      "[Parallel(n_jobs=4)]: Done 792 tasks      | elapsed:    1.6s\n",
      "[Parallel(n_jobs=4)]: Done 800 out of 800 | elapsed:    1.6s finished\n",
      "[Parallel(n_jobs=4)]: Using backend ThreadingBackend with 4 concurrent workers.\n",
      "[Parallel(n_jobs=4)]: Done  42 tasks      | elapsed:    0.0s\n",
      "[Parallel(n_jobs=4)]: Done 192 tasks      | elapsed:    0.1s\n"
     ]
    },
    {
     "name": "stdout",
     "output_type": "stream",
     "text": [
      "np.shape(X_test):  (4925, 1500)\n",
      "np.shape(y_test_binary):  (4925,)\n"
     ]
    },
    {
     "name": "stderr",
     "output_type": "stream",
     "text": [
      "[Parallel(n_jobs=4)]: Done 442 tasks      | elapsed:    0.3s\n",
      "[Parallel(n_jobs=4)]: Done 792 tasks      | elapsed:    0.5s\n",
      "[Parallel(n_jobs=4)]: Done 800 out of 800 | elapsed:    0.5s finished\n",
      "[Parallel(n_jobs=4)]: Using backend ThreadingBackend with 4 concurrent workers.\n",
      "[Parallel(n_jobs=4)]: Done  42 tasks      | elapsed:    0.0s\n",
      "[Parallel(n_jobs=4)]: Done 192 tasks      | elapsed:    0.1s\n"
     ]
    },
    {
     "name": "stdout",
     "output_type": "stream",
     "text": [
      "Accuracy on test data:  0.8950253807106598\n"
     ]
    },
    {
     "name": "stderr",
     "output_type": "stream",
     "text": [
      "[Parallel(n_jobs=4)]: Done 442 tasks      | elapsed:    0.3s\n",
      "[Parallel(n_jobs=4)]: Done 792 tasks      | elapsed:    0.5s\n",
      "[Parallel(n_jobs=4)]: Done 800 out of 800 | elapsed:    0.5s finished\n"
     ]
    },
    {
     "name": "stdout",
     "output_type": "stream",
     "text": [
      "np.shape(X_train):  (19248, 2000)\n",
      "np.shape(y_train_binary):  (19248,)\n"
     ]
    },
    {
     "name": "stderr",
     "output_type": "stream",
     "text": [
      "[Parallel(n_jobs=4)]: Using backend ThreadingBackend with 4 concurrent workers.\n",
      "[Parallel(n_jobs=4)]: Done  42 tasks      | elapsed:    0.1s\n",
      "[Parallel(n_jobs=4)]: Done 192 tasks      | elapsed:    0.4s\n",
      "[Parallel(n_jobs=4)]: Done 442 tasks      | elapsed:    0.9s\n",
      "[Parallel(n_jobs=4)]: Done 792 tasks      | elapsed:    1.6s\n",
      "[Parallel(n_jobs=4)]: Done 800 out of 800 | elapsed:    1.6s finished\n",
      "[Parallel(n_jobs=4)]: Using backend ThreadingBackend with 4 concurrent workers.\n",
      "[Parallel(n_jobs=4)]: Done  42 tasks      | elapsed:    0.1s\n"
     ]
    },
    {
     "name": "stdout",
     "output_type": "stream",
     "text": [
      "Accuracy on train data:  0.9727763923524522\n"
     ]
    },
    {
     "name": "stderr",
     "output_type": "stream",
     "text": [
      "[Parallel(n_jobs=4)]: Done 192 tasks      | elapsed:    0.4s\n",
      "[Parallel(n_jobs=4)]: Done 442 tasks      | elapsed:    0.9s\n",
      "[Parallel(n_jobs=4)]: Done 792 tasks      | elapsed:    1.5s\n",
      "[Parallel(n_jobs=4)]: Done 800 out of 800 | elapsed:    1.5s finished\n",
      "[Parallel(n_jobs=4)]: Using backend ThreadingBackend with 4 concurrent workers.\n",
      "[Parallel(n_jobs=4)]: Done  42 tasks      | elapsed:    0.0s\n",
      "[Parallel(n_jobs=4)]: Done 192 tasks      | elapsed:    0.1s\n"
     ]
    },
    {
     "name": "stdout",
     "output_type": "stream",
     "text": [
      "np.shape(X_test):  (4752, 2000)\n",
      "np.shape(y_test_binary):  (4752,)\n"
     ]
    },
    {
     "name": "stderr",
     "output_type": "stream",
     "text": [
      "[Parallel(n_jobs=4)]: Done 442 tasks      | elapsed:    0.3s\n",
      "[Parallel(n_jobs=4)]: Done 792 tasks      | elapsed:    0.5s\n",
      "[Parallel(n_jobs=4)]: Done 800 out of 800 | elapsed:    0.5s finished\n"
     ]
    },
    {
     "name": "stdout",
     "output_type": "stream",
     "text": [
      "Accuracy on test data:  0.9082491582491582\n"
     ]
    },
    {
     "name": "stderr",
     "output_type": "stream",
     "text": [
      "[Parallel(n_jobs=4)]: Using backend ThreadingBackend with 4 concurrent workers.\n",
      "[Parallel(n_jobs=4)]: Done  42 tasks      | elapsed:    0.0s\n",
      "[Parallel(n_jobs=4)]: Done 192 tasks      | elapsed:    0.1s\n",
      "[Parallel(n_jobs=4)]: Done 442 tasks      | elapsed:    0.3s\n",
      "[Parallel(n_jobs=4)]: Done 792 tasks      | elapsed:    0.5s\n",
      "[Parallel(n_jobs=4)]: Done 800 out of 800 | elapsed:    0.5s finished\n"
     ]
    }
   ],
   "source": [
    "RF_train_accuracies, RF_test_accuracies = evaluate_clf_on_lengths(model=\"RF\", lengths=lengths)"
   ]
  },
  {
   "cell_type": "markdown",
   "metadata": {},
   "source": [
    "### Gradient boosting"
   ]
  },
  {
   "cell_type": "code",
   "execution_count": 49,
   "metadata": {},
   "outputs": [
    {
     "name": "stdout",
     "output_type": "stream",
     "text": [
      "np.shape(X_train):  (19178, 5)\n",
      "np.shape(y_train_binary):  (19178,)\n",
      "Accuracy on train data:  0.9999478569193868\n",
      "np.shape(X_test):  (4822, 5)\n",
      "np.shape(y_test_binary):  (4822,)\n",
      "Accuracy on test data:  0.640812940688511\n",
      "np.shape(X_train):  (19228, 6)\n",
      "np.shape(y_train_binary):  (19228,)\n",
      "Accuracy on train data:  0.9999479925109216\n",
      "np.shape(X_test):  (4772, 6)\n",
      "np.shape(y_test_binary):  (4772,)\n",
      "Accuracy on test data:  0.7112321877619446\n",
      "np.shape(X_train):  (19186, 7)\n",
      "np.shape(y_train_binary):  (19186,)\n",
      "Accuracy on train data:  1.0\n",
      "np.shape(X_test):  (4814, 7)\n",
      "np.shape(y_test_binary):  (4814,)\n",
      "Accuracy on test data:  0.7451184046530951\n",
      "np.shape(X_train):  (19153, 8)\n",
      "np.shape(y_train_binary):  (19153,)\n",
      "Accuracy on train data:  0.9998955777162847\n",
      "np.shape(X_test):  (4847, 8)\n",
      "np.shape(y_test_binary):  (4847,)\n",
      "Accuracy on test data:  0.7648029709098412\n",
      "np.shape(X_train):  (19208, 9)\n",
      "np.shape(y_train_binary):  (19208,)\n",
      "Accuracy on train data:  1.0\n",
      "np.shape(X_test):  (4792, 9)\n",
      "np.shape(y_test_binary):  (4792,)\n",
      "Accuracy on test data:  0.7712854757929883\n",
      "np.shape(X_train):  (19181, 10)\n",
      "np.shape(y_train_binary):  (19181,)\n",
      "Accuracy on train data:  1.0\n",
      "np.shape(X_test):  (4819, 10)\n",
      "np.shape(y_test_binary):  (4819,)\n",
      "Accuracy on test data:  0.7881303174932559\n",
      "np.shape(X_train):  (19284, 20)\n",
      "np.shape(y_train_binary):  (19284,)\n",
      "Accuracy on train data:  1.0\n",
      "np.shape(X_test):  (4716, 20)\n",
      "np.shape(y_test_binary):  (4716,)\n",
      "Accuracy on test data:  0.8312128922815946\n",
      "np.shape(X_train):  (19334, 30)\n",
      "np.shape(y_train_binary):  (19334,)\n",
      "Accuracy on train data:  1.0\n",
      "np.shape(X_test):  (4666, 30)\n",
      "np.shape(y_test_binary):  (4666,)\n",
      "Accuracy on test data:  0.8514787826832405\n",
      "np.shape(X_train):  (19173, 40)\n",
      "np.shape(y_train_binary):  (19173,)\n",
      "Accuracy on train data:  1.0\n",
      "np.shape(X_test):  (4827, 40)\n",
      "np.shape(y_test_binary):  (4827,)\n",
      "Accuracy on test data:  0.8746633519784546\n",
      "np.shape(X_train):  (19302, 50)\n",
      "np.shape(y_train_binary):  (19302,)\n",
      "Accuracy on train data:  1.0\n",
      "np.shape(X_test):  (4698, 50)\n",
      "np.shape(y_test_binary):  (4698,)\n",
      "Accuracy on test data:  0.8773946360153256\n",
      "np.shape(X_train):  (19111, 60)\n",
      "np.shape(y_train_binary):  (19111,)\n",
      "Accuracy on train data:  1.0\n",
      "np.shape(X_test):  (4889, 60)\n",
      "np.shape(y_test_binary):  (4889,)\n",
      "Accuracy on test data:  0.8920024544896706\n",
      "np.shape(X_train):  (19225, 70)\n",
      "np.shape(y_train_binary):  (19225,)\n",
      "Accuracy on train data:  1.0\n",
      "np.shape(X_test):  (4775, 70)\n",
      "np.shape(y_test_binary):  (4775,)\n",
      "Accuracy on test data:  0.905130890052356\n",
      "np.shape(X_train):  (19194, 80)\n",
      "np.shape(y_train_binary):  (19194,)\n",
      "Accuracy on train data:  1.0\n",
      "np.shape(X_test):  (4806, 80)\n",
      "np.shape(y_test_binary):  (4806,)\n",
      "Accuracy on test data:  0.9059508947149396\n",
      "np.shape(X_train):  (19228, 90)\n",
      "np.shape(y_train_binary):  (19228,)\n",
      "Accuracy on train data:  1.0\n",
      "np.shape(X_test):  (4772, 90)\n",
      "np.shape(y_test_binary):  (4772,)\n",
      "Accuracy on test data:  0.9163872590108969\n",
      "np.shape(X_train):  (19167, 100)\n",
      "np.shape(y_train_binary):  (19167,)\n",
      "Accuracy on train data:  1.0\n",
      "np.shape(X_test):  (4833, 100)\n",
      "np.shape(y_test_binary):  (4833,)\n",
      "Accuracy on test data:  0.9232360852472584\n",
      "np.shape(X_train):  (19282, 500)\n",
      "np.shape(y_train_binary):  (19282,)\n",
      "Accuracy on train data:  1.0\n",
      "np.shape(X_test):  (4718, 500)\n",
      "np.shape(y_test_binary):  (4718,)\n",
      "Accuracy on test data:  0.9557015684612123\n",
      "np.shape(X_train):  (19183, 1000)\n",
      "np.shape(y_train_binary):  (19183,)\n",
      "Accuracy on train data:  1.0\n",
      "np.shape(X_test):  (4817, 1000)\n",
      "np.shape(y_test_binary):  (4817,)\n",
      "Accuracy on test data:  0.9688602864853644\n",
      "np.shape(X_train):  (19123, 1500)\n",
      "np.shape(y_train_binary):  (19123,)\n",
      "Accuracy on train data:  1.0\n",
      "np.shape(X_test):  (4877, 1500)\n",
      "np.shape(y_test_binary):  (4877,)\n",
      "Accuracy on test data:  0.974779577609186\n",
      "np.shape(X_train):  (19194, 2000)\n",
      "np.shape(y_train_binary):  (19194,)\n",
      "Accuracy on train data:  1.0\n",
      "np.shape(X_test):  (4806, 2000)\n",
      "np.shape(y_test_binary):  (4806,)\n",
      "Accuracy on test data:  0.9629629629629629\n"
     ]
    }
   ],
   "source": [
    "GB_train_accuracies, GB_test_accuracies = evaluate_clf_on_lengths(model=\"GB\", lengths=lengths)"
   ]
  },
  {
   "cell_type": "markdown",
   "metadata": {},
   "source": [
    "### Logistic regression"
   ]
  },
  {
   "cell_type": "code",
   "execution_count": 51,
   "metadata": {},
   "outputs": [
    {
     "name": "stdout",
     "output_type": "stream",
     "text": [
      "np.shape(X_train):  (19177, 5)\n",
      "np.shape(y_train_binary):  (19177,)\n",
      "Accuracy on train data:  0.18934139855034676\n",
      "np.shape(X_test):  (4823, 5)\n",
      "np.shape(y_test_binary):  (4823,)\n",
      "Accuracy on test data:  0.18453244868339208\n",
      "np.shape(X_train):  (19184, 6)\n",
      "np.shape(y_train_binary):  (19184,)\n",
      "Accuracy on train data:  0.19234778982485404\n",
      "np.shape(X_test):  (4816, 6)\n",
      "np.shape(y_test_binary):  (4816,)\n",
      "Accuracy on test data:  0.1877076411960133\n",
      "np.shape(X_train):  (19135, 7)\n",
      "np.shape(y_train_binary):  (19135,)\n",
      "Accuracy on train data:  0.20329239613274105\n",
      "np.shape(X_test):  (4865, 7)\n",
      "np.shape(y_test_binary):  (4865,)\n",
      "Accuracy on test data:  0.20513874614594038\n",
      "np.shape(X_train):  (19112, 8)\n",
      "np.shape(y_train_binary):  (19112,)\n",
      "Accuracy on train data:  0.2023336123901214\n",
      "np.shape(X_test):  (4888, 8)\n",
      "np.shape(y_test_binary):  (4888,)\n",
      "Accuracy on test data:  0.20130932896890344\n",
      "np.shape(X_train):  (19226, 9)\n",
      "np.shape(y_train_binary):  (19226,)\n",
      "Accuracy on train data:  0.24009154270259025\n",
      "np.shape(X_test):  (4774, 9)\n",
      "np.shape(y_test_binary):  (4774,)\n",
      "Accuracy on test data:  0.22140762463343108\n",
      "np.shape(X_train):  (19264, 10)\n",
      "np.shape(y_train_binary):  (19264,)\n",
      "Accuracy on train data:  0.2605897009966777\n",
      "np.shape(X_test):  (4736, 10)\n",
      "np.shape(y_test_binary):  (4736,)\n",
      "Accuracy on test data:  0.2561233108108108\n",
      "np.shape(X_train):  (19170, 20)\n",
      "np.shape(y_train_binary):  (19170,)\n",
      "Accuracy on train data:  0.2965049556598852\n",
      "np.shape(X_test):  (4830, 20)\n",
      "np.shape(y_test_binary):  (4830,)\n",
      "Accuracy on test data:  0.2971014492753623\n",
      "np.shape(X_train):  (19199, 30)\n",
      "np.shape(y_train_binary):  (19199,)\n",
      "Accuracy on train data:  0.33262149070264074\n",
      "np.shape(X_test):  (4801, 30)\n",
      "np.shape(y_test_binary):  (4801,)\n",
      "Accuracy on test data:  0.32555717558841907\n",
      "np.shape(X_train):  (19119, 40)\n",
      "np.shape(y_train_binary):  (19119,)\n",
      "Accuracy on train data:  0.37261363042000106\n",
      "np.shape(X_test):  (4881, 40)\n",
      "np.shape(y_test_binary):  (4881,)\n",
      "Accuracy on test data:  0.36263060848186845\n",
      "np.shape(X_train):  (19163, 50)\n",
      "np.shape(y_train_binary):  (19163,)\n",
      "Accuracy on train data:  0.42242863852215207\n",
      "np.shape(X_test):  (4837, 50)\n",
      "np.shape(y_test_binary):  (4837,)\n",
      "Accuracy on test data:  0.4070704982427124\n",
      "np.shape(X_train):  (19116, 60)\n",
      "np.shape(y_train_binary):  (19116,)\n",
      "Accuracy on train data:  0.4636430215526261\n",
      "np.shape(X_test):  (4884, 60)\n",
      "np.shape(y_test_binary):  (4884,)\n",
      "Accuracy on test data:  0.4498361998361998\n",
      "np.shape(X_train):  (19171, 70)\n",
      "np.shape(y_train_binary):  (19171,)\n",
      "Accuracy on train data:  0.49089771008293775\n",
      "np.shape(X_test):  (4829, 70)\n",
      "np.shape(y_test_binary):  (4829,)\n",
      "Accuracy on test data:  0.4742182646510665\n",
      "np.shape(X_train):  (19285, 80)\n",
      "np.shape(y_train_binary):  (19285,)\n",
      "Accuracy on train data:  0.5273010111485611\n",
      "np.shape(X_test):  (4715, 80)\n",
      "np.shape(y_test_binary):  (4715,)\n",
      "Accuracy on test data:  0.5164369034994698\n",
      "np.shape(X_train):  (19244, 90)\n",
      "np.shape(y_train_binary):  (19244,)\n",
      "Accuracy on train data:  0.5502494283932654\n",
      "np.shape(X_test):  (4756, 90)\n",
      "np.shape(y_test_binary):  (4756,)\n",
      "Accuracy on test data:  0.5290159798149706\n",
      "np.shape(X_train):  (19156, 100)\n",
      "np.shape(y_train_binary):  (19156,)\n",
      "Accuracy on train data:  0.5776780121110879\n",
      "np.shape(X_test):  (4844, 100)\n",
      "np.shape(y_test_binary):  (4844,)\n",
      "Accuracy on test data:  0.5635838150289018\n",
      "np.shape(X_train):  (19198, 500)\n",
      "np.shape(y_train_binary):  (19198,)\n",
      "Accuracy on train data:  0.9779143660798\n",
      "np.shape(X_test):  (4802, 500)\n",
      "np.shape(y_test_binary):  (4802,)\n",
      "Accuracy on test data:  0.9581424406497293\n",
      "np.shape(X_train):  (19156, 1000)\n",
      "np.shape(y_train_binary):  (19156,)\n",
      "Accuracy on train data:  0.9879411150553351\n",
      "np.shape(X_test):  (4844, 1000)\n",
      "np.shape(y_test_binary):  (4844,)\n",
      "Accuracy on test data:  0.9762592898431048\n",
      "np.shape(X_train):  (19163, 1500)\n",
      "np.shape(y_train_binary):  (19163,)\n",
      "Accuracy on train data:  0.9829880498878046\n",
      "np.shape(X_test):  (4837, 1500)\n",
      "np.shape(y_test_binary):  (4837,)\n",
      "Accuracy on test data:  0.9685755633657226\n",
      "np.shape(X_train):  (19266, 2000)\n",
      "np.shape(y_train_binary):  (19266,)\n",
      "Accuracy on train data:  0.9799647046610609\n",
      "np.shape(X_test):  (4734, 2000)\n",
      "np.shape(y_test_binary):  (4734,)\n",
      "Accuracy on test data:  0.968736797634136\n"
     ]
    }
   ],
   "source": [
    "LR_train_accuracies, LR_test_accuracies = evaluate_clf_on_lengths(model=\"LR\", lengths=lengths)"
   ]
  },
  {
   "cell_type": "markdown",
   "metadata": {},
   "source": [
    "### SVM"
   ]
  },
  {
   "cell_type": "code",
   "execution_count": 53,
   "metadata": {},
   "outputs": [
    {
     "name": "stdout",
     "output_type": "stream",
     "text": [
      "np.shape(X_train):  (19175, 5)\n",
      "np.shape(y_train_binary):  (19175,)\n",
      "Accuracy on train data:  0.19973924380704042\n",
      "np.shape(X_test):  (4825, 5)\n",
      "np.shape(y_test_binary):  (4825,)\n",
      "Accuracy on test data:  0.19461139896373056\n",
      "np.shape(X_train):  (19321, 6)\n",
      "np.shape(y_train_binary):  (19321,)\n",
      "Accuracy on train data:  0.18968997463899384\n",
      "np.shape(X_test):  (4679, 6)\n",
      "np.shape(y_test_binary):  (4679,)\n",
      "Accuracy on test data:  0.19298995511861508\n",
      "np.shape(X_train):  (19327, 7)\n",
      "np.shape(y_train_binary):  (19327,)\n",
      "Accuracy on train data:  0.20634345733947326\n",
      "np.shape(X_test):  (4673, 7)\n",
      "np.shape(y_test_binary):  (4673,)\n",
      "Accuracy on test data:  0.20586347100363792\n",
      "np.shape(X_train):  (19167, 8)\n",
      "np.shape(y_train_binary):  (19167,)\n",
      "Accuracy on train data:  0.20378776021286588\n",
      "np.shape(X_test):  (4833, 8)\n",
      "np.shape(y_test_binary):  (4833,)\n",
      "Accuracy on test data:  0.2042209807572936\n",
      "np.shape(X_train):  (19170, 9)\n",
      "np.shape(y_train_binary):  (19170,)\n",
      "Accuracy on train data:  0.25075639019300994\n",
      "np.shape(X_test):  (4830, 9)\n",
      "np.shape(y_test_binary):  (4830,)\n",
      "Accuracy on test data:  0.23478260869565218\n",
      "np.shape(X_train):  (19162, 10)\n",
      "np.shape(y_train_binary):  (19162,)\n",
      "Accuracy on train data:  0.26531677277945936\n",
      "np.shape(X_test):  (4838, 10)\n",
      "np.shape(y_test_binary):  (4838,)\n",
      "Accuracy on test data:  0.2629185613890037\n",
      "np.shape(X_train):  (19176, 20)\n",
      "np.shape(y_train_binary):  (19176,)\n",
      "Accuracy on train data:  0.33265540258656656\n",
      "np.shape(X_test):  (4824, 20)\n",
      "np.shape(y_test_binary):  (4824,)\n",
      "Accuracy on test data:  0.33623548922056384\n",
      "np.shape(X_train):  (19259, 30)\n",
      "np.shape(y_train_binary):  (19259,)\n",
      "Accuracy on train data:  0.3671010955916714\n",
      "np.shape(X_test):  (4741, 30)\n",
      "np.shape(y_test_binary):  (4741,)\n",
      "Accuracy on test data:  0.361738029951487\n",
      "np.shape(X_train):  (19254, 40)\n",
      "np.shape(y_train_binary):  (19254,)\n",
      "Accuracy on train data:  0.41274540355250855\n",
      "np.shape(X_test):  (4746, 40)\n",
      "np.shape(y_test_binary):  (4746,)\n",
      "Accuracy on test data:  0.4155077960387695\n",
      "np.shape(X_train):  (19237, 50)\n",
      "np.shape(y_train_binary):  (19237,)\n",
      "Accuracy on train data:  0.4711753391901024\n",
      "np.shape(X_test):  (4763, 50)\n",
      "np.shape(y_test_binary):  (4763,)\n",
      "Accuracy on test data:  0.460424102456435\n",
      "np.shape(X_train):  (19264, 60)\n",
      "np.shape(y_train_binary):  (19264,)\n",
      "Accuracy on train data:  0.5233077242524917\n",
      "np.shape(X_test):  (4736, 60)\n",
      "np.shape(y_test_binary):  (4736,)\n",
      "Accuracy on test data:  0.5057010135135135\n",
      "np.shape(X_train):  (18988, 70)\n",
      "np.shape(y_train_binary):  (18988,)\n",
      "Accuracy on train data:  0.5687276174425954\n",
      "np.shape(X_test):  (5012, 70)\n",
      "np.shape(y_test_binary):  (5012,)\n",
      "Accuracy on test data:  0.5556664006384677\n",
      "np.shape(X_train):  (19262, 80)\n",
      "np.shape(y_train_binary):  (19262,)\n",
      "Accuracy on train data:  0.6120859723808535\n",
      "np.shape(X_test):  (4738, 80)\n",
      "np.shape(y_test_binary):  (4738,)\n",
      "Accuracy on test data:  0.6038412832418742\n",
      "np.shape(X_train):  (19223, 90)\n",
      "np.shape(y_train_binary):  (19223,)\n",
      "Accuracy on train data:  0.6597825521510691\n",
      "np.shape(X_test):  (4777, 90)\n",
      "np.shape(y_test_binary):  (4777,)\n",
      "Accuracy on test data:  0.6303119112413649\n",
      "np.shape(X_train):  (19340, 100)\n",
      "np.shape(y_train_binary):  (19340,)\n",
      "Accuracy on train data:  0.6868665977249224\n",
      "np.shape(X_test):  (4660, 100)\n",
      "np.shape(y_test_binary):  (4660,)\n",
      "Accuracy on test data:  0.6682403433476395\n",
      "np.shape(X_train):  (19294, 500)\n",
      "np.shape(y_train_binary):  (19294,)\n",
      "Accuracy on train data:  0.9692650564942469\n",
      "np.shape(X_test):  (4706, 500)\n",
      "np.shape(y_test_binary):  (4706,)\n",
      "Accuracy on test data:  0.9519762005949851\n",
      "np.shape(X_train):  (19283, 1000)\n",
      "np.shape(y_train_binary):  (19283,)\n",
      "Accuracy on train data:  0.9684177773168076\n",
      "np.shape(X_test):  (4717, 1000)\n",
      "np.shape(y_test_binary):  (4717,)\n",
      "Accuracy on test data:  0.9571761712953148\n",
      "np.shape(X_train):  (19097, 1500)\n",
      "np.shape(y_train_binary):  (19097,)\n",
      "Accuracy on train data:  0.9724040425197675\n",
      "np.shape(X_test):  (4903, 1500)\n",
      "np.shape(y_test_binary):  (4903,)\n",
      "Accuracy on test data:  0.9567611666326739\n",
      "np.shape(X_train):  (19116, 2000)\n",
      "np.shape(y_train_binary):  (19116,)\n",
      "Accuracy on train data:  0.9560577526679221\n",
      "np.shape(X_test):  (4884, 2000)\n",
      "np.shape(y_test_binary):  (4884,)\n",
      "Accuracy on test data:  0.941031941031941\n"
     ]
    }
   ],
   "source": [
    "SVM_train_accuracies, SVM_test_accuracies = evaluate_clf_on_lengths(model=\"SVM\", lengths=lengths)"
   ]
  }
 ],
 "metadata": {
  "hide_input": false,
  "kernelspec": {
   "display_name": "Python 3",
   "language": "python",
   "name": "python3"
  },
  "language_info": {
   "codemirror_mode": {
    "name": "ipython",
    "version": 3
   },
   "file_extension": ".py",
   "mimetype": "text/x-python",
   "name": "python",
   "nbconvert_exporter": "python",
   "pygments_lexer": "ipython3",
   "version": "3.8.5"
  },
  "toc": {
   "base_numbering": 1,
   "nav_menu": {},
   "number_sections": true,
   "sideBar": true,
   "skip_h1_title": false,
   "title_cell": "Table of Contents",
   "title_sidebar": "Contents",
   "toc_cell": false,
   "toc_position": {},
   "toc_section_display": true,
   "toc_window_display": true
  }
 },
 "nbformat": 4,
 "nbformat_minor": 4
}
