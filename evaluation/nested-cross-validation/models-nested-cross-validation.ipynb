{
 "cells": [
  {
   "cell_type": "markdown",
   "metadata": {},
   "source": [
    "# Import dependencies"
   ]
  },
  {
   "cell_type": "code",
   "execution_count": 1,
   "metadata": {},
   "outputs": [],
   "source": [
    "import numpy as np\n",
    "import pickle\n",
    "import pandas as pd\n",
    "import joblib"
   ]
  },
  {
   "cell_type": "markdown",
   "metadata": {},
   "source": [
    "# Evaluate nested cross validation"
   ]
  },
  {
   "cell_type": "code",
   "execution_count": 22,
   "metadata": {},
   "outputs": [],
   "source": [
    "def evaluate_nested_cross_validaton(model, input_vector):\n",
    "    \"\"\"\n",
    "    Loads trained classifiers and respective training + test sets for cross-validation iterations\n",
    "    \n",
    "    Arguments:\n",
    "    model -- which classifier to use (\"RF\", \"GB\", \"LR\", \"SVM\")\n",
    "    input_vector -- use high-dimensional (\"high-dim\") or low dimensional (\"lwo-dim\") input vectors\n",
    "    \n",
    "    \n",
    "    Returns:\n",
    "    prints accuracies on train and test sets within iterations of cross validation and gives out \n",
    "    average results of 5-fold nested cross validation\n",
    "    \"\"\"\n",
    "    \n",
    "    if input_vector not in [\"low_dim\", \"high_dim\"]:\n",
    "        print(\"Please select 'low_dim' or 'high_dim' as input vector argument.\")\n",
    "        return 0\n",
    "\n",
    "    if model == \"RF\":\n",
    "        path = \"../../ML-models/nested-cross-validation/random-forest/\" + input_vector + \"/\"\n",
    "        # used 5-fold cross validation\n",
    "        train_accuracies = []\n",
    "        test_accuracies = []\n",
    "        for i in range(5):\n",
    "            clf = joblib.load(path + \"RF_V_\" + str(i) + \".joblib\")\n",
    "            X_train = np.load(path + \"X_train_V_\" + str(i) + \".npy\")\n",
    "            X_test = np.load(path + \"X_test_V_\" + str(i) + \".npy\")\n",
    "            y_train = np.load(path + \"y_train_V_\" + str(i) + \".npy\")\n",
    "            y_test = np.load(path + \"y_test_V_\" + str(i) + \".npy\")\n",
    "            print(\"Iteration \" + str(i+1) + \":\")\n",
    "            print(\"Accuracy on train data: \", clf.score(X_train, y_train))\n",
    "            train_accuracies.append(clf.score(X_train, y_train))\n",
    "            print(\"Accuracy on test data: \", clf.score(X_test, y_test))\n",
    "            test_accuracies.append(clf.score(X_test, y_test))\n",
    "        print(\"-----------Average results over 5 folds-----------\")\n",
    "        print(\"Avg. accuracy on train data: \", np.mean(train_accuracies))\n",
    "        print(\"Avg. accuracy on test data: \", np.mean(test_accuracies))\n",
    "            \n",
    "    elif model == \"GB\":\n",
    "            path = \"../../ML-models/nested-cross-validation/gradient-boosting/\" + input_vector + \"/\"\n",
    "            # used 5-fold cross validation\n",
    "            train_accuracies = []\n",
    "            test_accuracies = []\n",
    "            for i in range(5):\n",
    "                clf = joblib.load(path + \"HistGB_V_\" + str(i) + \".joblib\")\n",
    "                X_train = np.load(path + \"X_train_V_\" + str(i) + \".npy\")\n",
    "                X_test = np.load(path + \"X_test_V_\" + str(i) + \".npy\")\n",
    "                y_train = np.load(path + \"y_train_V_\" + str(i) + \".npy\")\n",
    "                y_test = np.load(path + \"y_test_V_\" + str(i) + \".npy\")\n",
    "                print(\"Iteration \" + str(i+1) + \":\")\n",
    "                print(\"Accuracy on train data: \", clf.score(X_train, y_train))\n",
    "                train_accuracies.append(clf.score(X_train, y_train))\n",
    "                print(\"Accuracy on test data: \", clf.score(X_test, y_test))\n",
    "                test_accuracies.append(clf.score(X_test, y_test))\n",
    "            print(\"-----------Average results over 5 folds-----------\")\n",
    "            print(\"Avg. accuracy on train data: \", np.mean(train_accuracies))\n",
    "            print(\"Avg. accuracy on test data: \", np.mean(test_accuracies))\n",
    "    elif model == \"LR\":\n",
    "            path = \"../../ML-models/nested-cross-validation/logistic-regression/\" + input_vector + \"/\"\n",
    "            # used 5-fold cross validation\n",
    "            train_accuracies = []\n",
    "            test_accuracies = []\n",
    "            for i in range(5):\n",
    "                clf = joblib.load(path + \"LR_V_\" + str(i) + \".joblib\")\n",
    "                X_train = np.load(path + \"X_train_V_\" + str(i) + \".npy\")\n",
    "                X_test = np.load(path + \"X_test_V_\" + str(i) + \".npy\")\n",
    "                y_train = np.load(path + \"y_train_V_\" + str(i) + \".npy\")\n",
    "                y_test = np.load(path + \"y_test_V_\" + str(i) + \".npy\")\n",
    "                print(\"Iteration \" + str(i+1) + \":\")\n",
    "                print(\"Accuracy on train data: \", clf.score(X_train, y_train))\n",
    "                train_accuracies.append(clf.score(X_train, y_train))\n",
    "                print(\"Accuracy on test data: \", clf.score(X_test, y_test))\n",
    "                test_accuracies.append(clf.score(X_test, y_test))\n",
    "            print(\"-----------Average results over 5 folds-----------\")\n",
    "            print(\"Avg. accuracy on train data: \", np.mean(train_accuracies))\n",
    "            print(\"Avg. accuracy on test data: \", np.mean(test_accuracies))\n",
    "    elif model == \"SVM\":\n",
    "            path = \"../../ML-models/nested-cross-validation/SVM/\" + input_vector + \"/\"\n",
    "            # used 5-fold cross validation\n",
    "            train_accuracies = []\n",
    "            test_accuracies = []\n",
    "            for i in range(5):\n",
    "                clf = joblib.load(path + \"SVM_V_\" + str(i) + \".joblib\")\n",
    "                X_train = np.load(path + \"X_train_V_\" + str(i) + \".npy\")\n",
    "                X_test = np.load(path + \"X_test_V_\" + str(i) + \".npy\")\n",
    "                y_train = np.load(path + \"y_train_V_\" + str(i) + \".npy\")\n",
    "                y_test = np.load(path + \"y_test_V_\" + str(i) + \".npy\")\n",
    "                print(\"Iteration \" + str(i+1) + \":\")\n",
    "                print(\"Accuracy on train data: \", clf.score(X_train, y_train))\n",
    "                train_accuracies.append(clf.score(X_train, y_train))\n",
    "                print(\"Accuracy on test data: \", clf.score(X_test, y_test))\n",
    "                test_accuracies.append(clf.score(X_test, y_test))\n",
    "            print(\"-----------Average results over 5 folds-----------\")\n",
    "            print(\"Avg. accuracy on train data: \", np.mean(train_accuracies))\n",
    "            print(\"Avg. accuracy on test data: \", np.mean(test_accuracies))\n",
    "    else:\n",
    "        print(\"Please select valid model from ['RF', 'GB', 'LR', 'SVM'].\")\n",
    "        return 0"
   ]
  },
  {
   "cell_type": "markdown",
   "metadata": {},
   "source": [
    "## Random forest"
   ]
  },
  {
   "cell_type": "code",
   "execution_count": 7,
   "metadata": {},
   "outputs": [
    {
     "name": "stdout",
     "output_type": "stream",
     "text": [
      "Iteration 1:\n",
      "Accuracy on train data:  0.9948958333333333\n",
      "Accuracy on test data:  0.9702083333333333\n",
      "Iteration 2:\n",
      "Accuracy on train data:  0.99109375\n",
      "Accuracy on test data:  0.9664583333333333\n",
      "Iteration 3:\n",
      "Accuracy on train data:  0.9961979166666667\n",
      "Accuracy on test data:  0.968125\n",
      "Iteration 4:\n",
      "Accuracy on train data:  0.99140625\n",
      "Accuracy on test data:  0.969375\n",
      "Iteration 5:\n",
      "Accuracy on train data:  0.9964583333333333\n",
      "Accuracy on test data:  0.965625\n",
      "-----------Average results over 5 folds-----------\n",
      "Avg. accuracy on train data:  0.9940104166666666\n",
      "Avg. accuracy on test data:  0.9679583333333334\n"
     ]
    }
   ],
   "source": [
    "evaluate_nested_cross_validaton(model=\"RF\", input_vector=\"low_dim\")"
   ]
  },
  {
   "cell_type": "code",
   "execution_count": 9,
   "metadata": {},
   "outputs": [
    {
     "name": "stdout",
     "output_type": "stream",
     "text": [
      "Iteration 1:\n",
      "Accuracy on train data:  0.9993229166666666\n",
      "Accuracy on test data:  0.931875\n",
      "Iteration 2:\n",
      "Accuracy on train data:  0.9980208333333334\n",
      "Accuracy on test data:  0.928125\n",
      "Iteration 3:\n",
      "Accuracy on train data:  0.9997395833333333\n",
      "Accuracy on test data:  0.9375\n",
      "Iteration 4:\n",
      "Accuracy on train data:  0.9977604166666667\n",
      "Accuracy on test data:  0.9260416666666667\n",
      "Iteration 5:\n",
      "Accuracy on train data:  0.9994270833333333\n",
      "Accuracy on test data:  0.931875\n",
      "-----------Average results over 5 folds-----------\n",
      "Avg. accuracy on train data:  0.9988541666666666\n",
      "Avg. accuracy on test data:  0.9310833333333333\n"
     ]
    }
   ],
   "source": [
    "evaluate_nested_cross_validaton(model=\"RF\", input_vector=\"high_dim\")"
   ]
  },
  {
   "cell_type": "markdown",
   "metadata": {},
   "source": [
    "## Gradient boosting"
   ]
  },
  {
   "cell_type": "code",
   "execution_count": 15,
   "metadata": {},
   "outputs": [
    {
     "name": "stdout",
     "output_type": "stream",
     "text": [
      "Iteration 1:\n",
      "Accuracy on train data:  0.9977604166666667\n",
      "Accuracy on test data:  0.9754166666666667\n",
      "Iteration 2:\n",
      "Accuracy on train data:  0.99765625\n",
      "Accuracy on test data:  0.9752083333333333\n",
      "Iteration 3:\n",
      "Accuracy on train data:  0.9976041666666666\n",
      "Accuracy on test data:  0.974375\n",
      "Iteration 4:\n",
      "Accuracy on train data:  0.9984375\n",
      "Accuracy on test data:  0.9727083333333333\n",
      "Iteration 5:\n",
      "Accuracy on train data:  0.99734375\n",
      "Accuracy on test data:  0.973125\n",
      "-----------Average results over 5 folds-----------\n",
      "Avg. accuracy on train data:  0.9977604166666667\n",
      "Avg. accuracy on test data:  0.9741666666666667\n"
     ]
    }
   ],
   "source": [
    "evaluate_nested_cross_validaton(model=\"GB\", input_vector=\"low_dim\")"
   ]
  },
  {
   "cell_type": "code",
   "execution_count": 16,
   "metadata": {},
   "outputs": [
    {
     "name": "stdout",
     "output_type": "stream",
     "text": [
      "Iteration 1:\n",
      "Accuracy on train data:  0.9974479166666667\n",
      "Accuracy on test data:  0.9777083333333333\n",
      "Iteration 2:\n",
      "Accuracy on train data:  0.9972395833333333\n",
      "Accuracy on test data:  0.9691666666666666\n",
      "Iteration 3:\n",
      "Accuracy on train data:  0.9969791666666666\n",
      "Accuracy on test data:  0.970625\n",
      "Iteration 4:\n",
      "Accuracy on train data:  0.9971354166666667\n",
      "Accuracy on test data:  0.96875\n",
      "Iteration 5:\n",
      "Accuracy on train data:  0.9973958333333334\n",
      "Accuracy on test data:  0.965625\n",
      "-----------Average results over 5 folds-----------\n",
      "Avg. accuracy on train data:  0.9972395833333334\n",
      "Avg. accuracy on test data:  0.970375\n"
     ]
    }
   ],
   "source": [
    "evaluate_nested_cross_validaton(model=\"GB\", input_vector=\"high_dim\")"
   ]
  },
  {
   "cell_type": "markdown",
   "metadata": {},
   "source": [
    "## Logistic regression"
   ]
  },
  {
   "cell_type": "code",
   "execution_count": 18,
   "metadata": {},
   "outputs": [
    {
     "name": "stdout",
     "output_type": "stream",
     "text": [
      "Iteration 1:\n",
      "Accuracy on train data:  0.8797395833333334\n",
      "Accuracy on test data:  0.8858333333333334\n",
      "Iteration 2:\n",
      "Accuracy on train data:  0.8859895833333333\n",
      "Accuracy on test data:  0.8754166666666666\n",
      "Iteration 3:\n",
      "Accuracy on train data:  0.8809895833333333\n",
      "Accuracy on test data:  0.8841666666666667\n",
      "Iteration 4:\n",
      "Accuracy on train data:  0.8841145833333334\n",
      "Accuracy on test data:  0.8870833333333333\n",
      "Iteration 5:\n",
      "Accuracy on train data:  0.8851041666666667\n",
      "Accuracy on test data:  0.8802083333333334\n",
      "-----------Average results over 5 folds-----------\n",
      "Avg. accuracy on train data:  0.8831875\n",
      "Avg. accuracy on test data:  0.8825416666666668\n"
     ]
    }
   ],
   "source": [
    "evaluate_nested_cross_validaton(model=\"LR\", input_vector=\"low_dim\")"
   ]
  },
  {
   "cell_type": "code",
   "execution_count": 19,
   "metadata": {},
   "outputs": [
    {
     "name": "stdout",
     "output_type": "stream",
     "text": [
      "Iteration 1:\n",
      "Accuracy on train data:  0.9823958333333334\n",
      "Accuracy on test data:  0.970625\n",
      "Iteration 2:\n",
      "Accuracy on train data:  0.9861979166666667\n",
      "Accuracy on test data:  0.9754166666666667\n",
      "Iteration 3:\n",
      "Accuracy on train data:  0.9822395833333334\n",
      "Accuracy on test data:  0.9760416666666667\n",
      "Iteration 4:\n",
      "Accuracy on train data:  0.9873958333333334\n",
      "Accuracy on test data:  0.971875\n",
      "Iteration 5:\n",
      "Accuracy on train data:  0.9865625\n",
      "Accuracy on test data:  0.973125\n",
      "-----------Average results over 5 folds-----------\n",
      "Avg. accuracy on train data:  0.9849583333333334\n",
      "Avg. accuracy on test data:  0.9734166666666667\n"
     ]
    }
   ],
   "source": [
    "evaluate_nested_cross_validaton(model=\"LR\", input_vector=\"high_dim\")"
   ]
  },
  {
   "cell_type": "markdown",
   "metadata": {},
   "source": [
    "## SVM"
   ]
  },
  {
   "cell_type": "code",
   "execution_count": 23,
   "metadata": {},
   "outputs": [
    {
     "name": "stdout",
     "output_type": "stream",
     "text": [
      "Iteration 1:\n",
      "Accuracy on train data:  0.9216145833333333\n",
      "Accuracy on test data:  0.926875\n",
      "Iteration 2:\n",
      "Accuracy on train data:  0.9238541666666666\n",
      "Accuracy on test data:  0.9145833333333333\n",
      "Iteration 3:\n",
      "Accuracy on train data:  0.9230208333333333\n",
      "Accuracy on test data:  0.9183333333333333\n",
      "Iteration 4:\n",
      "Accuracy on train data:  0.9216145833333333\n",
      "Accuracy on test data:  0.92375\n",
      "Iteration 5:\n",
      "Accuracy on train data:  0.92125\n",
      "Accuracy on test data:  0.9245833333333333\n",
      "-----------Average results over 5 folds-----------\n",
      "Avg. accuracy on train data:  0.9222708333333334\n",
      "Avg. accuracy on test data:  0.921625\n"
     ]
    }
   ],
   "source": [
    "evaluate_nested_cross_validaton(model=\"SVM\", input_vector=\"low_dim\")"
   ]
  },
  {
   "cell_type": "code",
   "execution_count": 24,
   "metadata": {},
   "outputs": [
    {
     "name": "stdout",
     "output_type": "stream",
     "text": [
      "Iteration 1:\n",
      "Accuracy on train data:  1.0\n",
      "Accuracy on test data:  0.99375\n",
      "Iteration 2:\n",
      "Accuracy on train data:  0.99984375\n",
      "Accuracy on test data:  0.9933333333333333\n",
      "Iteration 3:\n",
      "Accuracy on train data:  1.0\n",
      "Accuracy on test data:  0.99125\n",
      "Iteration 4:\n",
      "Accuracy on train data:  1.0\n",
      "Accuracy on test data:  0.9914583333333333\n",
      "Iteration 5:\n",
      "Accuracy on train data:  1.0\n",
      "Accuracy on test data:  0.9916666666666667\n",
      "-----------Average results over 5 folds-----------\n",
      "Avg. accuracy on train data:  0.9999687500000001\n",
      "Avg. accuracy on test data:  0.9922916666666666\n"
     ]
    }
   ],
   "source": [
    "evaluate_nested_cross_validaton(model=\"SVM\", input_vector=\"high_dim\")"
   ]
  },
  {
   "cell_type": "code",
   "execution_count": null,
   "metadata": {},
   "outputs": [],
   "source": []
  }
 ],
 "metadata": {
  "hide_input": false,
  "kernelspec": {
   "display_name": "Python [conda env:BacTra] *",
   "language": "python",
   "name": "conda-env-BacTra-py"
  },
  "language_info": {
   "codemirror_mode": {
    "name": "ipython",
    "version": 3
   },
   "file_extension": ".py",
   "mimetype": "text/x-python",
   "name": "python",
   "nbconvert_exporter": "python",
   "pygments_lexer": "ipython3",
   "version": "3.8.5"
  },
  "toc": {
   "base_numbering": 1,
   "nav_menu": {},
   "number_sections": true,
   "sideBar": true,
   "skip_h1_title": false,
   "title_cell": "Table of Contents",
   "title_sidebar": "Contents",
   "toc_cell": false,
   "toc_position": {},
   "toc_section_display": true,
   "toc_window_display": true
  }
 },
 "nbformat": 4,
 "nbformat_minor": 4
}
