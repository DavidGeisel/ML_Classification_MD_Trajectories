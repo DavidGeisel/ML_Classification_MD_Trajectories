{
 "cells": [
  {
   "cell_type": "markdown",
   "metadata": {},
   "source": [
    "# Import dependencies"
   ]
  },
  {
   "cell_type": "code",
   "execution_count": 1,
   "metadata": {},
   "outputs": [],
   "source": [
    "import numpy as np\n",
    "import pickle\n",
    "import pandas as pd\n",
    "import joblib"
   ]
  },
  {
   "cell_type": "markdown",
   "metadata": {},
   "source": [
    "# Load classifier and data"
   ]
  },
  {
   "cell_type": "code",
   "execution_count": 2,
   "metadata": {},
   "outputs": [],
   "source": [
    "def load_classifier_and_data(model, input_vector):\n",
    "    \"\"\"\n",
    "    Loads trained classifier and training + test data.\n",
    "    \n",
    "    Arguments:\n",
    "    model -- which classifier to use (\"RF\", \"GB\", \"LR\", \"SVM\")\n",
    "    input_vector -- use high-dimensional (\"high-dim\") or low dimensional (\"lwo-dim\") input vectors\n",
    "    \n",
    "    \n",
    "    Returns:\n",
    "    clf -- trained classifer\n",
    "    X_train -- data on which classifier was trained\n",
    "    X_test -- unseen test data for evaluation\n",
    "    y_train_binary - labels of train data\n",
    "    y_test_binary - labels of test data\n",
    "    \"\"\"\n",
    "    \n",
    "    if model == \"RF\":\n",
    "        if input_vector == \"high-dim\":\n",
    "            path = \"../../ML-models/random-forest/complete-trajectories/high-dimensional-input/\"\n",
    "            clf = pickle.load(open(path + \"RF_high_dim.sav\", 'rb'))\n",
    "            X_train = np.load(path + \"X_train_high_dim.npy\")\n",
    "            X_test = np.load(path + \"X_test_high_dim.npy\")\n",
    "            y_train_binary = np.load(path + \"y_train_binary_high_dim.npy\")\n",
    "            y_test_binary = np.load(path + \"y_test_binary_high_dim.npy\")\n",
    "        elif input_vector == \"low-dim\":\n",
    "            path = \"../../ML-models/random-forest/complete-trajectories/low-dimensional-input/\"\n",
    "            clf = joblib.load(open(path + \"RF_low_dim.joblib\", 'rb'))\n",
    "            X_train = np.load(path + \"X_train_low_dim.npy\")\n",
    "            X_test = np.load(path + \"X_test_low_dim.npy\")\n",
    "            y_train_binary = np.load(path + \"y_train_binary_low_dim.npy\")\n",
    "            y_test_binary = np.load(path + \"y_test_binary_low_dim.npy\")\n",
    "        else:\n",
    "            print(\"Please select valid input vector type\")\n",
    "            return 0\n",
    "    elif model == \"GB\":\n",
    "        if input_vector == \"high-dim\":\n",
    "            path = \"../../ML-models/gradient-boosting/complete-trajectories/high-dimensional-input/\"\n",
    "            clf = pickle.load(open(path + \"GB_high_dim.sav\", 'rb'))\n",
    "            X_train = np.load(path + \"X_train_high_dim.npy\")\n",
    "            X_test = np.load(path + \"X_test_high_dim.npy\")\n",
    "            y_train_binary = np.load(path + \"y_train_binary_high_dim.npy\")\n",
    "            y_test_binary = np.load(path + \"y_test_binary_high_dim.npy\")\n",
    "        elif input_vector == \"low-dim\":\n",
    "            path = \"../../ML-models/gradient-boosting/complete-trajectories/low-dimensional-input/\"\n",
    "            clf = joblib.load(open(path + \"GB_low_dim.joblib\", 'rb'))\n",
    "            X_train = np.load(path + \"X_train_low_dim.npy\")\n",
    "            X_test = np.load(path + \"X_test_low_dim.npy\")\n",
    "            y_train_binary = np.load(path + \"y_train_binary_low_dim.npy\")\n",
    "            y_test_binary = np.load(path + \"y_test_binary_low_dim.npy\")\n",
    "        else:\n",
    "            print(\"Please select valid input vector type\")\n",
    "            return 0\n",
    "    elif model == \"LR\":\n",
    "        if input_vector == \"high-dim\":\n",
    "            path = \"../../ML-models/logistic-regression/complete-trajectories/high-dimensional-input/\"\n",
    "            clf = pickle.load(open(path + \"LR_high_dim.sav\", 'rb'))\n",
    "            X_train = np.load(path + \"X_train_high_dim.npy\")\n",
    "            X_test = np.load(path + \"X_test_high_dim.npy\")\n",
    "            y_train_binary = np.load(path + \"y_train_binary_high_dim.npy\")\n",
    "            y_test_binary = np.load(path + \"y_test_binary_high_dim.npy\")\n",
    "        elif input_vector == \"low-dim\":\n",
    "            path = \"../../ML-models/logistic-regression/complete-trajectories/low-dimensional-input/rescaled/\"\n",
    "            clf = joblib.load(open(path + \"LR_low_dim.joblib\", 'rb'))\n",
    "            X_train = np.load(path + \"X_train_low_dim.npy\")\n",
    "            X_test = np.load(path + \"X_test_low_dim.npy\")\n",
    "            y_train_binary = np.load(path + \"y_train_binary_low_dim.npy\")\n",
    "            y_test_binary = np.load(path + \"y_test_binary_low_dim.npy\")\n",
    "        else:\n",
    "            print(\"Please select valid input vector type\")\n",
    "            return 0\n",
    "    elif model == \"SVM\":\n",
    "        if input_vector == \"high-dim\":\n",
    "            path = \"../../ML-models/svm/complete-trajectories/high-dimensional-input/\"\n",
    "            clf = pickle.load(open(path + \"SVM_high_dim.sav\", 'rb'))\n",
    "            X_train = np.load(path + \"X_train_high_dim.npy\")\n",
    "            X_test = np.load(path + \"X_test_high_dim.npy\")\n",
    "            y_train_binary = np.load(path + \"y_train_binary_high_dim.npy\")\n",
    "            y_test_binary = np.load(path + \"y_test_binary_high_dim.npy\")\n",
    "        elif input_vector == \"low-dim\":\n",
    "            path = \"../../ML-models/svm/complete-trajectories/low-dimensional-input/rescaled/\"\n",
    "            clf = joblib.load(open(path + \"SVM_low_dim.joblib\", 'rb'))\n",
    "            X_train = np.load(path + \"X_train_low_dim.npy\")\n",
    "            X_test = np.load(path + \"X_test_low_dim.npy\")\n",
    "            y_train_binary = np.load(path + \"y_train_binary_low_dim.npy\")\n",
    "            y_test_binary = np.load(path + \"y_test_binary_low_dim.npy\")\n",
    "        else:\n",
    "            print(\"Please select valid input vector type\")\n",
    "            return 0\n",
    "    else:\n",
    "        print(\"Please select valid model\")\n",
    "        return 0\n",
    "        \n",
    "    return clf, X_train, X_test, y_train_binary, y_test_binary"
   ]
  },
  {
   "cell_type": "code",
   "execution_count": 4,
   "metadata": {},
   "outputs": [],
   "source": [
    "clf, X_train, X_test, y_train_binary, y_test_binary = load_classifier_and_data(model=\"SVM\", input_vector=\"low-dim\")"
   ]
  },
  {
   "cell_type": "markdown",
   "metadata": {},
   "source": [
    "# Evaluate"
   ]
  },
  {
   "cell_type": "markdown",
   "metadata": {},
   "source": [
    "## Overall prediction accuracies"
   ]
  },
  {
   "cell_type": "code",
   "execution_count": 68,
   "metadata": {},
   "outputs": [
    {
     "name": "stdout",
     "output_type": "stream",
     "text": [
      "Accuracy on train data:  0.888652858913082\n"
     ]
    }
   ],
   "source": [
    "print(\"Accuracy on train data: \", clf.score(X_train, y_train_binary))"
   ]
  },
  {
   "cell_type": "code",
   "execution_count": 69,
   "metadata": {},
   "outputs": [
    {
     "name": "stdout",
     "output_type": "stream",
     "text": [
      "Accuracy on test data:  0.8599177654898624\n"
     ]
    }
   ],
   "source": [
    "print(\"Accuracy on test data: \", clf.score(X_test, y_test_binary))"
   ]
  },
  {
   "cell_type": "markdown",
   "metadata": {},
   "source": [
    "## Confusion matrix"
   ]
  },
  {
   "cell_type": "code",
   "execution_count": 18,
   "metadata": {},
   "outputs": [],
   "source": [
    "# dictionary of labels used in data\n",
    "labelsystem = {\n",
    "    0:'track-wt',\n",
    "    1:'track-dSMC',\n",
    "    2:'track-dParAB',\n",
    "    3:'track-dSMC-dParAB',\n",
    "    4: 'factory-wt',\n",
    "    5: 'factory-dSMC',\n",
    "    6: 'factory-dParAB',\n",
    "    7: 'factory-dSMCdParAB'\n",
    "}"
   ]
  },
  {
   "cell_type": "code",
   "execution_count": 20,
   "metadata": {},
   "outputs": [
    {
     "name": "stderr",
     "output_type": "stream",
     "text": [
      "[Parallel(n_jobs=4)]: Using backend ThreadingBackend with 4 concurrent workers.\n",
      "[Parallel(n_jobs=4)]: Done  42 tasks      | elapsed:    0.1s\n",
      "[Parallel(n_jobs=4)]: Done 192 tasks      | elapsed:    0.2s\n",
      "[Parallel(n_jobs=4)]: Done 442 tasks      | elapsed:    0.5s\n",
      "[Parallel(n_jobs=4)]: Done 792 tasks      | elapsed:    0.9s\n",
      "[Parallel(n_jobs=4)]: Done 800 out of 800 | elapsed:    0.9s finished\n"
     ]
    }
   ],
   "source": [
    "# Apply the Classifier we trained to the test data (which, remember, it has never seen before)\n",
    "predictions = clf.predict(X_test)\n",
    "# construct pandas dataframe\n",
    "preds_idx = []\n",
    "for i in predictions:\n",
    "    preds_idx.append(labelsystem[i])\n",
    "predictions_df = pd.DataFrame(data=preds_idx, index=predictions)"
   ]
  },
  {
   "cell_type": "code",
   "execution_count": 21,
   "metadata": {},
   "outputs": [],
   "source": [
    "# Compare actual labels\n",
    "reality = []\n",
    "for i in y_test_binary:\n",
    "    reality.append(labelsystem[i])\n",
    "\n",
    "reality = np.array(reality)"
   ]
  },
  {
   "cell_type": "code",
   "execution_count": 22,
   "metadata": {},
   "outputs": [
    {
     "data": {
      "text/html": [
       "<div>\n",
       "<style scoped>\n",
       "    .dataframe tbody tr th:only-of-type {\n",
       "        vertical-align: middle;\n",
       "    }\n",
       "\n",
       "    .dataframe tbody tr th {\n",
       "        vertical-align: top;\n",
       "    }\n",
       "\n",
       "    .dataframe thead th {\n",
       "        text-align: right;\n",
       "    }\n",
       "</style>\n",
       "<table border=\"1\" class=\"dataframe\">\n",
       "  <thead>\n",
       "    <tr style=\"text-align: right;\">\n",
       "      <th>Predicted label</th>\n",
       "      <th>factory-dParAB</th>\n",
       "      <th>factory-dSMC</th>\n",
       "      <th>factory-dSMCdParAB</th>\n",
       "      <th>factory-wt</th>\n",
       "      <th>track-dParAB</th>\n",
       "      <th>track-dSMC</th>\n",
       "      <th>track-dSMC-dParAB</th>\n",
       "      <th>track-wt</th>\n",
       "    </tr>\n",
       "    <tr>\n",
       "      <th>Actual label</th>\n",
       "      <th></th>\n",
       "      <th></th>\n",
       "      <th></th>\n",
       "      <th></th>\n",
       "      <th></th>\n",
       "      <th></th>\n",
       "      <th></th>\n",
       "      <th></th>\n",
       "    </tr>\n",
       "  </thead>\n",
       "  <tbody>\n",
       "    <tr>\n",
       "      <th>factory-dParAB</th>\n",
       "      <td>796</td>\n",
       "      <td>12</td>\n",
       "      <td>65</td>\n",
       "      <td>16</td>\n",
       "      <td>0</td>\n",
       "      <td>0</td>\n",
       "      <td>0</td>\n",
       "      <td>0</td>\n",
       "    </tr>\n",
       "    <tr>\n",
       "      <th>factory-dSMC</th>\n",
       "      <td>8</td>\n",
       "      <td>831</td>\n",
       "      <td>23</td>\n",
       "      <td>41</td>\n",
       "      <td>0</td>\n",
       "      <td>0</td>\n",
       "      <td>0</td>\n",
       "      <td>0</td>\n",
       "    </tr>\n",
       "    <tr>\n",
       "      <th>factory-dSMCdParAB</th>\n",
       "      <td>54</td>\n",
       "      <td>41</td>\n",
       "      <td>803</td>\n",
       "      <td>10</td>\n",
       "      <td>0</td>\n",
       "      <td>0</td>\n",
       "      <td>0</td>\n",
       "      <td>0</td>\n",
       "    </tr>\n",
       "    <tr>\n",
       "      <th>factory-wt</th>\n",
       "      <td>14</td>\n",
       "      <td>36</td>\n",
       "      <td>5</td>\n",
       "      <td>809</td>\n",
       "      <td>0</td>\n",
       "      <td>0</td>\n",
       "      <td>0</td>\n",
       "      <td>0</td>\n",
       "    </tr>\n",
       "    <tr>\n",
       "      <th>track-dParAB</th>\n",
       "      <td>0</td>\n",
       "      <td>0</td>\n",
       "      <td>0</td>\n",
       "      <td>0</td>\n",
       "      <td>866</td>\n",
       "      <td>3</td>\n",
       "      <td>44</td>\n",
       "      <td>4</td>\n",
       "    </tr>\n",
       "    <tr>\n",
       "      <th>track-dSMC</th>\n",
       "      <td>0</td>\n",
       "      <td>0</td>\n",
       "      <td>0</td>\n",
       "      <td>0</td>\n",
       "      <td>2</td>\n",
       "      <td>835</td>\n",
       "      <td>17</td>\n",
       "      <td>75</td>\n",
       "    </tr>\n",
       "    <tr>\n",
       "      <th>track-dSMC-dParAB</th>\n",
       "      <td>0</td>\n",
       "      <td>0</td>\n",
       "      <td>0</td>\n",
       "      <td>0</td>\n",
       "      <td>48</td>\n",
       "      <td>8</td>\n",
       "      <td>819</td>\n",
       "      <td>6</td>\n",
       "    </tr>\n",
       "    <tr>\n",
       "      <th>track-wt</th>\n",
       "      <td>0</td>\n",
       "      <td>0</td>\n",
       "      <td>0</td>\n",
       "      <td>0</td>\n",
       "      <td>0</td>\n",
       "      <td>75</td>\n",
       "      <td>9</td>\n",
       "      <td>858</td>\n",
       "    </tr>\n",
       "  </tbody>\n",
       "</table>\n",
       "</div>"
      ],
      "text/plain": [
       "Predicted label     factory-dParAB  factory-dSMC  factory-dSMCdParAB  \\\n",
       "Actual label                                                           \n",
       "factory-dParAB                 796            12                  65   \n",
       "factory-dSMC                     8           831                  23   \n",
       "factory-dSMCdParAB              54            41                 803   \n",
       "factory-wt                      14            36                   5   \n",
       "track-dParAB                     0             0                   0   \n",
       "track-dSMC                       0             0                   0   \n",
       "track-dSMC-dParAB                0             0                   0   \n",
       "track-wt                         0             0                   0   \n",
       "\n",
       "Predicted label     factory-wt  track-dParAB  track-dSMC  track-dSMC-dParAB  \\\n",
       "Actual label                                                                  \n",
       "factory-dParAB              16             0           0                  0   \n",
       "factory-dSMC                41             0           0                  0   \n",
       "factory-dSMCdParAB          10             0           0                  0   \n",
       "factory-wt                 809             0           0                  0   \n",
       "track-dParAB                 0           866           3                 44   \n",
       "track-dSMC                   0             2         835                 17   \n",
       "track-dSMC-dParAB            0            48           8                819   \n",
       "track-wt                     0             0          75                  9   \n",
       "\n",
       "Predicted label     track-wt  \n",
       "Actual label                  \n",
       "factory-dParAB             0  \n",
       "factory-dSMC               0  \n",
       "factory-dSMCdParAB         0  \n",
       "factory-wt                 0  \n",
       "track-dParAB               4  \n",
       "track-dSMC                75  \n",
       "track-dSMC-dParAB          6  \n",
       "track-wt                 858  "
      ]
     },
     "execution_count": 22,
     "metadata": {},
     "output_type": "execute_result"
    }
   ],
   "source": [
    "# Create confusion matrix\n",
    "conf_matr = pd.crosstab(reality, \n",
    "                        predictions_df[0].values, \n",
    "                        rownames=['Actual label'], \n",
    "                        colnames=['Predicted label'], normalize='index')\n",
    "conf_matr = pd.crosstab(reality, \n",
    "                        predictions_df[0].values, \n",
    "                        rownames=['Actual label'], \n",
    "                        colnames=['Predicted label'])\n",
    "\n",
    "conf_matr"
   ]
  },
  {
   "cell_type": "markdown",
   "metadata": {},
   "source": [
    "## Prediction and recall values"
   ]
  },
  {
   "cell_type": "markdown",
   "metadata": {},
   "source": [
    "### Precision\n",
    "= fraction of correct predictions among all predictions. <br>\n",
    "- tells us how often a classifier is correct if it predicts a given class\\\\\n",
    "- high precision: return much more relevant results than irrelevant ones\\\\\n"
   ]
  },
  {
   "cell_type": "code",
   "execution_count": 23,
   "metadata": {},
   "outputs": [
    {
     "name": "stdout",
     "output_type": "stream",
     "text": [
      "precision_track_wt =  0.9098621420996819\n",
      "precision_track_dSMC =  0.9066232356134636\n",
      "precision_track_dParAB =  0.9454148471615721\n",
      "precision_track_dSMC_dParAB =  0.9212598425196851\n",
      "precision_factory_wt =  0.9235159817351598\n",
      "precision_factory_dSMC =  0.9032608695652173\n",
      "precision_factory_dParAB =  0.9128440366972477\n",
      "precision_factory_dSMC_dParAB =  0.8962053571428571\n"
     ]
    }
   ],
   "source": [
    "# Track model of replication\n",
    "precision_track_wt = conf_matr['track-wt']['track-wt']/conf_matr['track-wt'].sum()\n",
    "print(\"precision_track_wt = \", precision_track_wt)\n",
    "\n",
    "precision_track_dSMC = conf_matr['track-dSMC']['track-dSMC']/conf_matr['track-dSMC'].sum()\n",
    "print(\"precision_track_dSMC = \", precision_track_dSMC)\n",
    "\n",
    "precision_track_dParAB = conf_matr['track-dParAB']['track-dParAB']/conf_matr['track-dParAB'].sum()\n",
    "print(\"precision_track_dParAB = \", precision_track_dParAB)\n",
    "\n",
    "precision_track_dSMC_dParAB = conf_matr['track-dSMC-dParAB']['track-dSMC-dParAB']/conf_matr['track-dSMC-dParAB'].sum()\n",
    "print(\"precision_track_dSMC_dParAB = \", precision_track_dSMC_dParAB)\n",
    "\n",
    "\n",
    "# Factory model of replication\n",
    "precision_factory_wt = conf_matr['factory-wt']['factory-wt']/conf_matr['factory-wt'].sum()\n",
    "print(\"precision_factory_wt = \", precision_factory_wt)\n",
    "\n",
    "precision_factory_dSMC = conf_matr['factory-dSMC']['factory-dSMC']/conf_matr['factory-dSMC'].sum()\n",
    "print(\"precision_factory_dSMC = \", precision_factory_dSMC)\n",
    "\n",
    "precision_factory_dParAB = conf_matr['factory-dParAB']['factory-dParAB']/conf_matr['factory-dParAB'].sum()\n",
    "print(\"precision_factory_dParAB = \", precision_factory_dParAB)\n",
    "\n",
    "precision_factory_dSMC_dParAB = conf_matr['factory-dSMCdParAB']['factory-dSMCdParAB']/conf_matr['factory-dSMCdParAB'].sum()\n",
    "print(\"precision_factory_dSMC_dParAB = \", precision_factory_dSMC_dParAB)"
   ]
  },
  {
   "cell_type": "markdown",
   "metadata": {},
   "source": [
    "### Recall\n",
    "= fraction of correct predictions of a given class over the total number of members of this class <br>\n",
    "- high recall: yield most of the relevant results"
   ]
  },
  {
   "cell_type": "code",
   "execution_count": 24,
   "metadata": {},
   "outputs": [
    {
     "name": "stdout",
     "output_type": "stream",
     "text": [
      "recall_track_wt =  0.910828025477707\n",
      "recall_track_dSMC =  0.898815931108719\n",
      "recall_track_dParAB =  0.9443838604143948\n",
      "recall_track_dSMC_dParAB =  0.9296254256526674\n",
      "recall_factory_wt =  0.9363425925925926\n",
      "recall_factory_dSMC =  0.920265780730897\n",
      "recall_factory_dParAB =  0.8953880764904387\n",
      "recall_factory_dSMC_dParAB =  0.8843612334801763\n"
     ]
    }
   ],
   "source": [
    "# Track model of replication\n",
    "recall_track_wt = conf_matr['track-wt']['track-wt']/conf_matr.T['track-wt'].sum()\n",
    "print(\"recall_track_wt = \", recall_track_wt)\n",
    "\n",
    "recall_track_dSMC = conf_matr['track-dSMC']['track-dSMC']/conf_matr.T['track-dSMC'].sum()\n",
    "print(\"recall_track_dSMC = \", recall_track_dSMC)\n",
    "\n",
    "recall_track_dParAB = conf_matr['track-dParAB']['track-dParAB']/conf_matr.T['track-dParAB'].sum()\n",
    "print(\"recall_track_dParAB = \", recall_track_dParAB)\n",
    "\n",
    "recall_track_dSMC_dParAB = conf_matr['track-dSMC-dParAB']['track-dSMC-dParAB']/conf_matr.T['track-dSMC-dParAB'].sum()\n",
    "print(\"recall_track_dSMC_dParAB = \", recall_track_dSMC_dParAB)\n",
    "\n",
    "\n",
    "# Factory model of replication\n",
    "recall_factory_wt = conf_matr['factory-wt']['factory-wt']/conf_matr.T['factory-wt'].sum()\n",
    "print(\"recall_factory_wt = \", recall_factory_wt)\n",
    "\n",
    "recall_factory_dSMC = conf_matr['factory-dSMC']['factory-dSMC']/conf_matr.T['factory-dSMC'].sum()\n",
    "print(\"recall_factory_dSMC = \", recall_factory_dSMC)\n",
    "\n",
    "recall_factory_dParAB = conf_matr['factory-dParAB']['factory-dParAB']/conf_matr.T['factory-dParAB'].sum()\n",
    "print(\"recall_factory_dParAB = \", recall_factory_dParAB)\n",
    "\n",
    "recall_factory_dSMC_dParAB = conf_matr['factory-dSMCdParAB']['factory-dSMCdParAB']/conf_matr.T['factory-dSMCdParAB'].sum()\n",
    "print(\"recall_factory_dSMC_dParAB = \", recall_factory_dSMC_dParAB)"
   ]
  },
  {
   "cell_type": "markdown",
   "metadata": {},
   "source": [
    "## Feature importance"
   ]
  },
  {
   "cell_type": "code",
   "execution_count": 90,
   "metadata": {},
   "outputs": [],
   "source": [
    "def calculate_feature_importance(clf, model, input_vector):\n",
    "    \"\"\"\n",
    "    Gives out the feature importance values of a trained classifier.\n",
    "    We only calculated feature importance for low-dimensional input vectors.\n",
    "    \n",
    "    Arguments:\n",
    "    clf -- trained classifer - select above using function load_classifier_and_data()\n",
    "    model -- which classifier was selected above (\"RF\", \"GB\", \"LR\", \"SVM\")? \n",
    "    input_vector -- use high-dimensional (\"high-dim\") or low dimensional (\"lwo-dim\") input vectors\n",
    "    \n",
    "    \n",
    "    Returns:\n",
    "    feature_importance -- dictionary with feature importance values\n",
    "    \"\"\"\n",
    "    \n",
    "    # define list of features\n",
    "    features = ['MSD', 'Alpha', 'MSDR', 'FD', 'RG', 'E', 'G', 'S']\n",
    "    if input_vector == \"high_dim\":\n",
    "        print(\"Feature importance was only calculated for low-dimensional input vectors.\")\n",
    "        return 0\n",
    "    elif input_vector == \"low_dim\":\n",
    "        if model == \"RF\" or model == \"GB\":\n",
    "            feature_importance = list(zip(features, clf.feature_importances_))\n",
    "        elif model ==\"LR\" or model ==\"SVM\":\n",
    "            coefficients = abs(clf.coef_[0])\n",
    "            importances = coefficients/np.sum(coefficients)*100\n",
    "            feature_importance = list(zip(features, importances))\n",
    "        else:\n",
    "            print(\"no valid model selected\")\n",
    "            return 0\n",
    "    \n",
    "    return feature_importance"
   ]
  },
  {
   "cell_type": "code",
   "execution_count": 91,
   "metadata": {},
   "outputs": [
    {
     "data": {
      "text/plain": [
       "[('MSD', 5.985632088796504),\n",
       " ('Alpha', 45.62055159206931),\n",
       " ('MSDR', 0.00039053287902617484),\n",
       " ('FD', 28.041420909296484),\n",
       " ('RG', 7.938495537167234),\n",
       " ('E', 4.561991086953707),\n",
       " ('G', 4.201706985781596),\n",
       " ('S', 3.6498112670561365)]"
      ]
     },
     "execution_count": 91,
     "metadata": {},
     "output_type": "execute_result"
    }
   ],
   "source": [
    "feature_importance = calculate_feature_importance(clf=clf, model=\"SVM\", input_vector=\"low_dim\")\n",
    "feature_importance"
   ]
  },
  {
   "cell_type": "code",
   "execution_count": null,
   "metadata": {},
   "outputs": [],
   "source": []
  }
 ],
 "metadata": {
  "hide_input": false,
  "kernelspec": {
   "display_name": "Python [conda env:BacTra] *",
   "language": "python",
   "name": "conda-env-BacTra-py"
  },
  "language_info": {
   "codemirror_mode": {
    "name": "ipython",
    "version": 3
   },
   "file_extension": ".py",
   "mimetype": "text/x-python",
   "name": "python",
   "nbconvert_exporter": "python",
   "pygments_lexer": "ipython3",
   "version": "3.8.5"
  },
  "toc": {
   "base_numbering": 1,
   "nav_menu": {},
   "number_sections": true,
   "sideBar": true,
   "skip_h1_title": false,
   "title_cell": "Table of Contents",
   "title_sidebar": "Contents",
   "toc_cell": false,
   "toc_position": {
    "height": "calc(100% - 180px)",
    "left": "10px",
    "top": "150px",
    "width": "373.333px"
   },
   "toc_section_display": true,
   "toc_window_display": true
  }
 },
 "nbformat": 4,
 "nbformat_minor": 4
}
