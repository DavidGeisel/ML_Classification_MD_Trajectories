{
 "cells": [
  {
   "cell_type": "markdown",
   "metadata": {},
   "source": [
    "# Import dependencies"
   ]
  },
  {
   "cell_type": "code",
   "execution_count": 4,
   "metadata": {},
   "outputs": [],
   "source": [
    "import numpy as np\n",
    "import pickle"
   ]
  },
  {
   "cell_type": "markdown",
   "metadata": {},
   "source": [
    "# Load classifier and data"
   ]
  },
  {
   "cell_type": "code",
   "execution_count": null,
   "metadata": {},
   "outputs": [],
   "source": [
    "def load_classifier_and_data(model, input_vecor):\n",
    "    \"\"\"\n",
    "    Loads trained classifier and training + test data.\n",
    "    \n",
    "    Arguments:\n",
    "    model -- which classifier to use (\"RF\", \"GB\", \"LR\", \"SVM\")\n",
    "    input_vector -- use high-dimensional (\"high-dim\") or low dimensional (\"lwo-dim\") input vectors\n",
    "    \n",
    "    \n",
    "    Returns:\n",
    "    clf -- trained classifer\n",
    "    X_train -- data on which classifier was trained\n",
    "    X_test -- unseen test data for evaluation\n",
    "    y_train_binary - labels of train data\n",
    "    y_test_binary - labels of test data\n",
    "    \"\"\"\n",
    "    \n",
    "    if model == \"RF\":\n",
    "        if input_vector == \"high-dim\":\n",
    "            path = \"../../ML-models/random-forest/complete-trajectories/high-dimensional-input/\"\n",
    "            clf = pickle.load(open(path + \"RF_high_dim.sav\", 'rb'))\n",
    "            X_train = np.load(path + \"X_train_high_dim.npy\")\n",
    "            X_test = np.load(path + \"X_test_high_dim.npy\")\n",
    "            y_train_binary = np.load(path + \"y_train_binary_high_dim.npy\")\n",
    "            y_test_binary = np.load(path + \"y_test_binary_high_dim.npy\")\n",
    "        elif input_vector == \"low-dim\":\n",
    "            path = \"../../ML-models/random-forest/complete-trajectories/low-dimensional-input/\"\n",
    "            clf = pickle.load(open(path + \"RF_low_dim.joblib\", 'rb'))\n",
    "            X_train = np.load(path + \"X_train_low_dim.npy\")\n",
    "            X_test = np.load(path + \"X_test_low_dim.npy\")\n",
    "            y_train_binary = np.load(path + \"y_train_binary_low_dim.npy\")\n",
    "            y_test_binary = np.load(path + \"y_test_binary_low_dim.npy\")\n",
    "        else:\n",
    "            print(\"Please select valid input vector type\")\n",
    "            return 0\n",
    "    elif model == \"GB\":\n",
    "        if input_vector == \"high-dim\":\n",
    "            print(\"x\")\n",
    "        elif input_vector == \"low-dim\":\n",
    "            print(\"y\")\n",
    "        else:\n",
    "            print(\"Please select valid input vector type\")\n",
    "            return 0\n",
    "    elif model == \"LR\":\n",
    "        if input_vector == \"high-dim\":\n",
    "            print(\"x\")\n",
    "        elif input_vector == \"low-dim\":\n",
    "            print(\"y\")\n",
    "        else:\n",
    "            print(\"Please select valid input vector type\")\n",
    "            return 0\n",
    "    elif model == \"SVM\":\n",
    "        if input_vector == \"high-dim\":\n",
    "            print(\"x\")\n",
    "        elif input_vector == \"low-dim\":\n",
    "            print(\"y\")\n",
    "        else:\n",
    "            print(\"Please select valid input vector type\")\n",
    "            return 0\n",
    "    else:\n",
    "        print(\"Please select valid model\")\n",
    "        return 0\n",
    "        \n",
    "    return clf, X_train, X_test, y_train_binary, y_test_binary"
   ]
  },
  {
   "cell_type": "code",
   "execution_count": 9,
   "metadata": {},
   "outputs": [
    {
     "data": {
      "text/plain": [
       "RandomForestClassifier(max_depth=20, min_samples_leaf=4, min_samples_split=10,\n",
       "                       n_estimators=800, n_jobs=-1, random_state=42, verbose=1)"
      ]
     },
     "execution_count": 9,
     "metadata": {},
     "output_type": "execute_result"
    }
   ],
   "source": [
    "test_clf = pickle.load(open(\"../../ML-models/random-forest/complete-trajectories/high-dimensional-input/RF_high_dim.sav\", 'rb'))\n",
    "test_clf"
   ]
  },
  {
   "cell_type": "code",
   "execution_count": 5,
   "metadata": {},
   "outputs": [],
   "source": [
    "\n",
    "\n"
   ]
  },
  {
   "cell_type": "code",
   "execution_count": 6,
   "metadata": {},
   "outputs": [
    {
     "name": "stderr",
     "output_type": "stream",
     "text": [
      "[Parallel(n_jobs=4)]: Using backend ThreadingBackend with 4 concurrent workers.\n",
      "[Parallel(n_jobs=4)]: Done  42 tasks      | elapsed:    0.4s\n",
      "[Parallel(n_jobs=4)]: Done 192 tasks      | elapsed:    0.8s\n",
      "[Parallel(n_jobs=4)]: Done 442 tasks      | elapsed:    1.4s\n"
     ]
    },
    {
     "name": "stdout",
     "output_type": "stream",
     "text": [
      "Accuracy on train data:  0.9940359038587702\n"
     ]
    },
    {
     "name": "stderr",
     "output_type": "stream",
     "text": [
      "[Parallel(n_jobs=4)]: Done 792 tasks      | elapsed:    2.3s\n",
      "[Parallel(n_jobs=4)]: Done 800 out of 800 | elapsed:    2.3s finished\n"
     ]
    }
   ],
   "source": [
    "print(\"Accuracy on train data: \", rf_clf.score(X_train, y_train_binary))"
   ]
  },
  {
   "cell_type": "code",
   "execution_count": 7,
   "metadata": {},
   "outputs": [
    {
     "name": "stderr",
     "output_type": "stream",
     "text": [
      "[Parallel(n_jobs=4)]: Using backend ThreadingBackend with 4 concurrent workers.\n",
      "[Parallel(n_jobs=4)]: Done  42 tasks      | elapsed:    0.0s\n",
      "[Parallel(n_jobs=4)]: Done 192 tasks      | elapsed:    0.2s\n",
      "[Parallel(n_jobs=4)]: Done 442 tasks      | elapsed:    0.5s\n"
     ]
    },
    {
     "name": "stdout",
     "output_type": "stream",
     "text": [
      "Accuracy on test data:  0.9148347850131342\n"
     ]
    },
    {
     "name": "stderr",
     "output_type": "stream",
     "text": [
      "[Parallel(n_jobs=4)]: Done 792 tasks      | elapsed:    1.0s\n",
      "[Parallel(n_jobs=4)]: Done 800 out of 800 | elapsed:    1.0s finished\n"
     ]
    }
   ],
   "source": [
    "print(\"Accuracy on test data: \", rf_clf.score(X_test, y_test_binary))"
   ]
  },
  {
   "cell_type": "code",
   "execution_count": null,
   "metadata": {},
   "outputs": [],
   "source": []
  }
 ],
 "metadata": {
  "hide_input": false,
  "kernelspec": {
   "display_name": "Python [conda env:BacTra] *",
   "language": "python",
   "name": "conda-env-BacTra-py"
  },
  "language_info": {
   "codemirror_mode": {
    "name": "ipython",
    "version": 3
   },
   "file_extension": ".py",
   "mimetype": "text/x-python",
   "name": "python",
   "nbconvert_exporter": "python",
   "pygments_lexer": "ipython3",
   "version": "3.8.5"
  },
  "toc": {
   "base_numbering": 1,
   "nav_menu": {},
   "number_sections": true,
   "sideBar": true,
   "skip_h1_title": false,
   "title_cell": "Table of Contents",
   "title_sidebar": "Contents",
   "toc_cell": false,
   "toc_position": {},
   "toc_section_display": true,
   "toc_window_display": true
  }
 },
 "nbformat": 4,
 "nbformat_minor": 4
}
